{
  "cells": [
    {
      "cell_type": "markdown",
      "metadata": {
        "id": "EySWwLyPJogz"
      },
      "source": [
        "\n",
        "# **Analyzing Diabetes Data with Machine Learning**\n",
        "\n",
        "Anu Bat-Yeruult\n",
        "\n",
        "\n",
        "\n"
      ]
    },
    {
      "cell_type": "code",
      "execution_count": 3,
      "metadata": {
        "colab": {
          "base_uri": "https://localhost:8080/"
        },
        "id": "fMAT-64aJog1",
        "outputId": "fdfd7a45-23ae-4eda-d8a0-f982fd456e95"
      },
      "outputs": [
        {
          "output_type": "stream",
          "name": "stderr",
          "text": [
            "Installing package into ‘/usr/local/lib/R/site-library’\n",
            "(as ‘lib’ is unspecified)\n",
            "\n",
            "Installing package into ‘/usr/local/lib/R/site-library’\n",
            "(as ‘lib’ is unspecified)\n",
            "\n",
            "Installing package into ‘/usr/local/lib/R/site-library’\n",
            "(as ‘lib’ is unspecified)\n",
            "\n",
            "Installing package into ‘/usr/local/lib/R/site-library’\n",
            "(as ‘lib’ is unspecified)\n",
            "\n",
            "Installing package into ‘/usr/local/lib/R/site-library’\n",
            "(as ‘lib’ is unspecified)\n",
            "\n",
            "Installing package into ‘/usr/local/lib/R/site-library’\n",
            "(as ‘lib’ is unspecified)\n",
            "\n",
            "Installing package into ‘/usr/local/lib/R/site-library’\n",
            "(as ‘lib’ is unspecified)\n",
            "\n",
            "Installing package into ‘/usr/local/lib/R/site-library’\n",
            "(as ‘lib’ is unspecified)\n",
            "\n",
            "Installing package into ‘/usr/local/lib/R/site-library’\n",
            "(as ‘lib’ is unspecified)\n",
            "\n",
            "Installing package into ‘/usr/local/lib/R/site-library’\n",
            "(as ‘lib’ is unspecified)\n",
            "\n",
            "Installing package into ‘/usr/local/lib/R/site-library’\n",
            "(as ‘lib’ is unspecified)\n",
            "\n",
            "Installing package into ‘/usr/local/lib/R/site-library’\n",
            "(as ‘lib’ is unspecified)\n",
            "\n"
          ]
        }
      ],
      "source": [
        "install.packages(\"DBI\")\n",
        "install.packages(\"vctrs\")\n",
        "install.packages('tidyverse')\n",
        "install.packages(\"pROC\")\n",
        "install.packages(\"party\")\n",
        "install.packages(\"DAAG\")\n",
        "install.packages(\"VIM\")\n",
        "install.packages(\"caret\")\n",
        "install.packages(\"FNN\")\n",
        "install.packages(\"randomForest\")\n",
        "install.packages(\"e1071\")\n",
        "install.packages(\"neuralnet\")\n",
        "\n",
        "\n",
        "library(tidyverse)\n",
        "library(dplyr)\n",
        "library(ggplot2)\n",
        "library(pROC)\n",
        "library(\"party\")\n",
        "library(\"DAAG\")\n",
        "library(VIM)\n",
        "library(caret)\n",
        "library(FNN)\n",
        "library(randomForest)\n",
        "library(e1071)\n",
        "library(\"neuralnet\")\n"
      ]
    },
    {
      "cell_type": "code",
      "source": [
        "diabetes <- read.csv(\"PimaIndiansDiabetes.csv\", header = T) #read the data.csv in and call it cancer_data\n",
        "head(diabetes)"
      ],
      "metadata": {
        "colab": {
          "base_uri": "https://localhost:8080/",
          "height": 303
        },
        "id": "3Z_s77EdQBMH",
        "outputId": "44c7a4fe-edbe-464a-b21a-989c1364c4d8"
      },
      "execution_count": 10,
      "outputs": [
        {
          "output_type": "display_data",
          "data": {
            "text/html": [
              "<table class=\"dataframe\">\n",
              "<caption>A data.frame: 6 × 9</caption>\n",
              "<thead>\n",
              "\t<tr><th></th><th scope=col>Pregnancies</th><th scope=col>Glucose</th><th scope=col>BloodPressure</th><th scope=col>SkinThickness</th><th scope=col>Insulin</th><th scope=col>BMI</th><th scope=col>DiabetesPedigreeFunction</th><th scope=col>Age</th><th scope=col>Outcome</th></tr>\n",
              "\t<tr><th></th><th scope=col>&lt;int&gt;</th><th scope=col>&lt;int&gt;</th><th scope=col>&lt;int&gt;</th><th scope=col>&lt;int&gt;</th><th scope=col>&lt;int&gt;</th><th scope=col>&lt;dbl&gt;</th><th scope=col>&lt;dbl&gt;</th><th scope=col>&lt;int&gt;</th><th scope=col>&lt;int&gt;</th></tr>\n",
              "</thead>\n",
              "<tbody>\n",
              "\t<tr><th scope=row>1</th><td>6</td><td>148</td><td>72</td><td>35</td><td>  0</td><td>33.6</td><td>0.627</td><td>50</td><td>1</td></tr>\n",
              "\t<tr><th scope=row>2</th><td>1</td><td> 85</td><td>66</td><td>29</td><td>  0</td><td>26.6</td><td>0.351</td><td>31</td><td>0</td></tr>\n",
              "\t<tr><th scope=row>3</th><td>8</td><td>183</td><td>64</td><td> 0</td><td>  0</td><td>23.3</td><td>0.672</td><td>32</td><td>1</td></tr>\n",
              "\t<tr><th scope=row>4</th><td>1</td><td> 89</td><td>66</td><td>23</td><td> 94</td><td>28.1</td><td>0.167</td><td>21</td><td>0</td></tr>\n",
              "\t<tr><th scope=row>5</th><td>0</td><td>137</td><td>40</td><td>35</td><td>168</td><td>43.1</td><td>2.288</td><td>33</td><td>1</td></tr>\n",
              "\t<tr><th scope=row>6</th><td>5</td><td>116</td><td>74</td><td> 0</td><td>  0</td><td>25.6</td><td>0.201</td><td>30</td><td>0</td></tr>\n",
              "</tbody>\n",
              "</table>\n"
            ],
            "text/markdown": "\nA data.frame: 6 × 9\n\n| <!--/--> | Pregnancies &lt;int&gt; | Glucose &lt;int&gt; | BloodPressure &lt;int&gt; | SkinThickness &lt;int&gt; | Insulin &lt;int&gt; | BMI &lt;dbl&gt; | DiabetesPedigreeFunction &lt;dbl&gt; | Age &lt;int&gt; | Outcome &lt;int&gt; |\n|---|---|---|---|---|---|---|---|---|---|\n| 1 | 6 | 148 | 72 | 35 |   0 | 33.6 | 0.627 | 50 | 1 |\n| 2 | 1 |  85 | 66 | 29 |   0 | 26.6 | 0.351 | 31 | 0 |\n| 3 | 8 | 183 | 64 |  0 |   0 | 23.3 | 0.672 | 32 | 1 |\n| 4 | 1 |  89 | 66 | 23 |  94 | 28.1 | 0.167 | 21 | 0 |\n| 5 | 0 | 137 | 40 | 35 | 168 | 43.1 | 2.288 | 33 | 1 |\n| 6 | 5 | 116 | 74 |  0 |   0 | 25.6 | 0.201 | 30 | 0 |\n\n",
            "text/latex": "A data.frame: 6 × 9\n\\begin{tabular}{r|lllllllll}\n  & Pregnancies & Glucose & BloodPressure & SkinThickness & Insulin & BMI & DiabetesPedigreeFunction & Age & Outcome\\\\\n  & <int> & <int> & <int> & <int> & <int> & <dbl> & <dbl> & <int> & <int>\\\\\n\\hline\n\t1 & 6 & 148 & 72 & 35 &   0 & 33.6 & 0.627 & 50 & 1\\\\\n\t2 & 1 &  85 & 66 & 29 &   0 & 26.6 & 0.351 & 31 & 0\\\\\n\t3 & 8 & 183 & 64 &  0 &   0 & 23.3 & 0.672 & 32 & 1\\\\\n\t4 & 1 &  89 & 66 & 23 &  94 & 28.1 & 0.167 & 21 & 0\\\\\n\t5 & 0 & 137 & 40 & 35 & 168 & 43.1 & 2.288 & 33 & 1\\\\\n\t6 & 5 & 116 & 74 &  0 &   0 & 25.6 & 0.201 & 30 & 0\\\\\n\\end{tabular}\n",
            "text/plain": [
              "  Pregnancies Glucose BloodPressure SkinThickness Insulin BMI \n",
              "1 6           148     72            35              0     33.6\n",
              "2 1            85     66            29              0     26.6\n",
              "3 8           183     64             0              0     23.3\n",
              "4 1            89     66            23             94     28.1\n",
              "5 0           137     40            35            168     43.1\n",
              "6 5           116     74             0              0     25.6\n",
              "  DiabetesPedigreeFunction Age Outcome\n",
              "1 0.627                    50  1      \n",
              "2 0.351                    31  0      \n",
              "3 0.672                    32  1      \n",
              "4 0.167                    21  0      \n",
              "5 2.288                    33  1      \n",
              "6 0.201                    30  0      "
            ]
          },
          "metadata": {}
        }
      ]
    },
    {
      "cell_type": "markdown",
      "metadata": {
        "id": "6MKeVMs3Jog2"
      },
      "source": [
        "## Part 1 Numeric vs. Categorical\n",
        "\n"
      ]
    },
    {
      "cell_type": "markdown",
      "source": [
        "The numeric variables are: pregnancies, glucose, blood pressure, skin thickness, insulin, BMI, Diabetes Pedigree Function and age. The main reason why these variables are numeric is that the dataset itself is a medical dataset, which contains quantitative measurements such as these variables, that are often used in medical diagnosis. Also, these measurements are quantitative and some variables (insulin, BMI, DPF) are continuous.\n",
        "\n",
        "On the other hand, the variable “outcome” is the only categorical variable in the data.\n",
        "The reason why the outcome is not numeric (despite being represented by '1' and '0' in the dataset) is that it represents a binary category (diabetes or no diabetes). Particularly, categorical variables are usually used to represent discrete attributes that cannot by measured on a scale. As such, “outcome” fits such description.\n"
      ],
      "metadata": {
        "id": "k-MWpUAbSpKa"
      }
    },
    {
      "cell_type": "code",
      "execution_count": 13,
      "metadata": {
        "id": "95jvQw95Jog3"
      },
      "outputs": [],
      "source": [
        "#Converting the numeric variables to numeric type\n",
        "diabetes$Pregnancies <- as.numeric(diabetes$Pregnancies)\n",
        "diabetes$Glucose <- as.numeric(diabetes$Glucose)\n",
        "diabetes$BloodPressure <- as.numeric(diabetes$BloodPressure)\n",
        "diabetes$SkinThickness <- as.numeric(diabetes$SkinThickness)\n",
        "diabetes$Insulin <- as.numeric(diabetes$Insulin)\n",
        "diabetes$BMI <- as.numeric(diabetes$BMI)\n",
        "diabetes$DiabetesPedigreeFunction <- as.numeric(diabetes$DiabetesPedigreeFunction)\n",
        "\n",
        "\n",
        "#Converting \"Outcome\" categorical variable to factor type\n",
        "diabetes$Outcome <- as.factor(diabetes$Outcome)\n"
      ]
    },
    {
      "cell_type": "markdown",
      "metadata": {
        "id": "MubxB8AeJog3"
      },
      "source": [
        "## Part 2 Creating boxplots\n"
      ]
    },
    {
      "cell_type": "code",
      "execution_count": 14,
      "metadata": {
        "colab": {
          "base_uri": "https://localhost:8080/",
          "height": 1000
        },
        "id": "foUvbcJdJog4",
        "outputId": "030eef7f-c05b-4f30-b127-c76d850fbd17"
      },
      "outputs": [
        {
          "output_type": "display_data",
          "data": {
            "text/plain": [
              "plot without title"
            ],
            "image/png": "[encoded data removed]"
          },
          "metadata": {
            "image/png": {
              "width": 420,
              "height": 420
            }
          }
        },
        {
          "output_type": "display_data",
          "data": {
            "text/plain": [
              "plot without title"
            ],
            "image/png": "[encoded data removed]"
          },
          "metadata": {
            "image/png": {
              "width": 420,
              "height": 420
            }
          }
        },
        {
          "output_type": "display_data",
          "data": {
            "text/plain": [
              "plot without title"
            ],
            "image/png": "[encoded data removed]"
          },
          "metadata": {
            "image/png": {
              "width": 420,
              "height": 420
            }
          }
        },
        {
          "output_type": "display_data",
          "data": {
            "text/plain": [
              "plot without title"
            ],
            "image/png": "[encoded data removed]"
          },
          "metadata": {
            "image/png": {
              "width": 420,
              "height": 420
            }
          }
        },
        {
          "output_type": "display_data",
          "data": {
            "text/plain": [
              "plot without title"
            ],
            "image/png": "[encoded data removed]"
          },
          "metadata": {
            "image/png": {
              "width": 420,
              "height": 420
            }
          }
        },
        {
          "output_type": "display_data",
          "data": {
            "text/plain": [
              "plot without title"
            ],
            "image/png": "[encoded data removed]"
          },
          "metadata": {
            "image/png": {
              "width": 420,
              "height": 420
            }
          }
        },
        {
          "output_type": "display_data",
          "data": {
            "text/plain": [
              "plot without title"
            ],
            "image/png": "[encoded data removed]"
          },
          "metadata": {
            "image/png": {
              "width": 420,
              "height": 420
            }
          }
        },
        {
          "output_type": "display_data",
          "data": {
            "text/plain": [
              "Plot with title “Outcome Distribution”"
            ],
            "image/png": "[encoded data removed]"
          },
          "metadata": {
            "image/png": {
              "width": 420,
              "height": 420
            }
          }
        }
      ],
      "source": [
        "# Create a boxplot for each of variable to visualize the distribution of the values between diabetic and non-diabetic.\n",
        "ggplot(diabetes, aes(x = Outcome, y = Pregnancies, fill = Outcome)) +\n",
        "  geom_boxplot() +\n",
        "  labs(title = \"Number of Pregnancies by Outcome\", x = \"Outcome\", y = \"Pregnancies\")\n",
        "\n",
        "ggplot(diabetes, aes(x = Outcome, y = Glucose, fill=Outcome)) +\n",
        "  geom_boxplot() +\n",
        "  labs(title = \"Glucose Level by Outcome\", x = \"Outcome\", y = \"Glucose Level\")\n",
        "\n",
        "ggplot(diabetes, aes(x = Outcome, y = BloodPressure, fill=Outcome)) +\n",
        "  geom_boxplot() +\n",
        "  labs(title = \"Blood Pressure by Outcome\", x = \"Outcome\", y = \"Blood Pressure\")\n",
        "\n",
        "ggplot(diabetes, aes(x = Outcome, y = SkinThickness, fill=Outcome)) +\n",
        "  geom_boxplot() +\n",
        "  labs(title = \"Skin Thickness by Outcome\", x = \"Outcome\", y = \"Skin Thickness\")\n",
        "\n",
        "ggplot(diabetes, aes(x = Outcome, y = Insulin, fill=Outcome)) +\n",
        "  geom_boxplot() +\n",
        "  labs(title = \"Insulin Level by Outcome\", x = \"Outcome\", y = \"Insulin Level\")\n",
        "\n",
        "ggplot(diabetes, aes(x = Outcome, y = BMI, fill=Outcome)) +\n",
        "  geom_boxplot() +\n",
        "  labs(title = \"BMI by Outcome\", x = \"Outcome\", y = \"BMI\")\n",
        "\n",
        "ggplot(diabetes, aes(x = Outcome, y = DiabetesPedigreeFunction, fill=Outcome)) +\n",
        "  geom_boxplot() +\n",
        "  labs(title = \"Diabetes Pedigree Function by Outcome\", x = \"Outcome\", y = \"Diabetes Pedigree Function\")\n",
        "\n",
        "# create a table of counts for each value of Outcome\n",
        "outcome_counts <- table(diabetes$Outcome)\n",
        "\n",
        "# create a barplot of the counts\n",
        "barplot(outcome_counts, main=\"Outcome Distribution\", xlab=\"Outcome\", ylab=\"Count\", col=\"blue\")\n"
      ]
    },
    {
      "cell_type": "markdown",
      "source": [
        "The boxplots for the numeric variables can be used to predict which specific variable can be used to predict whether a patient is diabetic or not.\n",
        "\n",
        "Particularly, I’d need to look for the feature that shows the largest difference between diabetic and non diabetic diagnoses. Strangely, the majority of the boxplots follow a trend where the feature-specific values are overlapping between the diagnoses. This means that these features are not good indicators for the diagnosis for diabetes.\n",
        "\n",
        "Comparing the boxplots, I think Glucose would be the best indicator out of all the variables because, despite the small overlap between higher percentile of 0 and lower percentile of 1, it shows the largest relative difference in values between diabetic and non diabetic. A key reasoning for such trends would be that the data is not normalized, meaning there is no assurance that all variables can be accurately compared to one another.\n",
        "\n",
        "Regarding the bar-plot of the “Outcome,” the graph shows the size comparison between diabetic and non-diabetic features. Surprisingly, the count for 0 (non-diabetic) is almost twice as big as 1 (diabetic). Such large imbalance between the binary outcomes may contribute to the overlaps seen in the boxplots as there is significantly less data to support values that relate to 1 (diabetic)."
      ],
      "metadata": {
        "id": "plU00slvULEF"
      }
    },
    {
      "cell_type": "markdown",
      "metadata": {
        "id": "cx4e3f3xJog4"
      },
      "source": [
        "## Part3\n",
        "\n",
        "Number of pregnancies - can be 0\n",
        "Glucose - cannot be 0\n",
        "Blood pressure - cannot be 0\n",
        "Skin Thickness - cannot be 0\n",
        "Insulin - cannot be 0\n",
        "BMI - cannot be 0\n",
        "Age - cannot be 0\n",
        "\n",
        "We observe data set & found that some variable i.e Glucose,BloodPressure,SkinThickness,Insulin,BMI can not be exactly “zero” as its not possible practically so we need to replace these Zero values with NA to replace them with some value using kNN computation method.\n",
        "\n",
        "Use KNN Imputation method to remove NA\n",
        "This imputer utilizes the k-Nearest Neighbors method to replace the missing values in the datasets with the mean value from the parameter ‘n_neighbors’ nearest neighbors found in the training set. By default, it uses a Euclidean distance metric to impute the missing values.\n",
        "https://medium.com/@kyawsawhtoon/a-guide-to-knn-imputation-95e2dc496e\n",
        "\n",
        "The optimal K value usually found is the square root of N, where N is the total number of samples.\n",
        "https://towardsdatascience.com/how-to-find-the-optimal-value-of-k-in-knn-35d936e554eb\n"
      ]
    },
    {
      "cell_type": "code",
      "execution_count": 15,
      "metadata": {
        "colab": {
          "base_uri": "https://localhost:8080/",
          "height": 1000
        },
        "id": "fmqEuhpGJog5",
        "outputId": "89725653-3c3a-4ef1-ae9f-a9122c73f593"
      },
      "outputs": [
        {
          "output_type": "display_data",
          "data": {
            "text/plain": [
              "  Pregnancies        Glucose      BloodPressure    SkinThickness  \n",
              " Min.   : 0.000   Min.   :  0.0   Min.   :  0.00   Min.   : 0.00  \n",
              " 1st Qu.: 1.000   1st Qu.: 99.0   1st Qu.: 64.00   1st Qu.: 0.00  \n",
              " Median : 3.000   Median :116.0   Median : 72.00   Median :23.00  \n",
              " Mean   : 3.813   Mean   :120.4   Mean   : 68.75   Mean   :20.57  \n",
              " 3rd Qu.: 6.000   3rd Qu.:140.0   3rd Qu.: 80.00   3rd Qu.:32.00  \n",
              " Max.   :17.000   Max.   :199.0   Max.   :122.00   Max.   :99.00  \n",
              "    Insulin            BMI        DiabetesPedigreeFunction      Age       \n",
              " Min.   :  0.00   Min.   : 0.00   Min.   :0.0780           Min.   :21.00  \n",
              " 1st Qu.:  0.00   1st Qu.:27.10   1st Qu.:0.2387           1st Qu.:24.00  \n",
              " Median : 36.50   Median :32.00   Median :0.3770           Median :29.00  \n",
              " Mean   : 79.65   Mean   :31.86   Mean   :0.4773           Mean   :33.09  \n",
              " 3rd Qu.:126.00   3rd Qu.:36.50   3rd Qu.:0.6412           3rd Qu.:40.00  \n",
              " Max.   :846.00   Max.   :67.10   Max.   :2.4200           Max.   :81.00  \n",
              " Outcome\n",
              " 0:437  \n",
              " 1:231  \n",
              "        \n",
              "        \n",
              "        \n",
              "        "
            ]
          },
          "metadata": {}
        },
        {
          "output_type": "display_data",
          "data": {
            "text/plain": [
              "    Glucose      BloodPressure    SkinThickness      Insulin     \n",
              " Min.   : 44.0   Min.   : 24.00   Min.   : 7.00   Min.   : 14.0  \n",
              " 1st Qu.: 99.0   1st Qu.: 64.00   1st Qu.:21.00   1st Qu.: 75.0  \n",
              " Median :116.0   Median : 72.00   Median :29.00   Median :121.0  \n",
              " Mean   :121.3   Mean   : 72.21   Mean   :29.11   Mean   :153.8  \n",
              " 3rd Qu.:140.5   3rd Qu.: 80.00   3rd Qu.:36.00   3rd Qu.:190.0  \n",
              " Max.   :199.0   Max.   :122.00   Max.   :99.00   Max.   :846.0  \n",
              " NA's   :5       NA's   :32       NA's   :196     NA's   :322    \n",
              "      BMI      \n",
              " Min.   :18.2  \n",
              " 1st Qu.:27.3  \n",
              " Median :32.0  \n",
              " Mean   :32.3  \n",
              " 3rd Qu.:36.6  \n",
              " Max.   :67.1  \n",
              " NA's   :9     "
            ]
          },
          "metadata": {}
        },
        {
          "output_type": "display_data",
          "data": {
            "text/plain": [
              "  Pregnancies        Glucose      BloodPressure    SkinThickness  \n",
              " Min.   : 0.000   Min.   : 44.0   Min.   : 24.00   Min.   : 7.00  \n",
              " 1st Qu.: 1.000   1st Qu.: 99.0   1st Qu.: 64.00   1st Qu.:22.00  \n",
              " Median : 3.000   Median :116.0   Median : 72.00   Median :30.00  \n",
              " Mean   : 3.813   Mean   :121.2   Mean   : 72.33   Mean   :28.95  \n",
              " 3rd Qu.: 6.000   3rd Qu.:140.0   3rd Qu.: 80.00   3rd Qu.:33.00  \n",
              " Max.   :17.000   Max.   :199.0   Max.   :122.00   Max.   :99.00  \n",
              "    Insulin           BMI        DiabetesPedigreeFunction      Age       \n",
              " Min.   : 14.0   Min.   :18.20   Min.   :0.0780           Min.   :21.00  \n",
              " 1st Qu.: 81.0   1st Qu.:27.40   1st Qu.:0.2387           1st Qu.:24.00  \n",
              " Median :122.0   Median :32.05   Median :0.3770           Median :29.00  \n",
              " Mean   :142.2   Mean   :32.31   Mean   :0.4773           Mean   :33.09  \n",
              " 3rd Qu.:170.0   3rd Qu.:36.50   3rd Qu.:0.6412           3rd Qu.:40.00  \n",
              " Max.   :846.0   Max.   :67.10   Max.   :2.4200           Max.   :81.00  \n",
              " Outcome\n",
              " 0:437  \n",
              " 1:231  \n",
              "        \n",
              "        \n",
              "        \n",
              "        "
            ]
          },
          "metadata": {}
        }
      ],
      "source": [
        "summary(diabetes)\n",
        "\n",
        "#according to the summary, Glucose, BloodPressure, SkinThickness, Insulin, and BMI contain 0, which does not make sense for the variables. So, I will need to replace the zero values with NA.\n",
        "\n",
        "diabetes0 <- diabetes[, c(\"Glucose\", \"BloodPressure\", \"SkinThickness\", \"Insulin\", \"BMI\")]\n",
        "\n",
        "diabetes0[diabetes0=='0']=NA #Replacing 0 with NA\n",
        "\n",
        "summary(diabetes0) #show the NA present in each variable\n",
        "\n",
        "diabetes0<-kNN(diabetes0,k=sqrt(nrow(diabetes0))) #KNN Imputation method to remove NA. The square root of number of rows in the dataset because the \"optimal K value usually found is the square root of N, where N is the total number of samples\".\n",
        "\n",
        "#extract the necessary variables\n",
        "diabetes0=diabetes0[,1:5]\n",
        "\n",
        "#Replace processed variables back into the dataset\n",
        "\n",
        "diabetes$Glucose=diabetes0$Glucose\n",
        "diabetes$BloodPressure=diabetes0$BloodPressure\n",
        "diabetes$SkinThickness=diabetes0$SkinThickness\n",
        "diabetes$Insulin=diabetes0$Insulin\n",
        "diabetes$BMI=diabetes0$BMI\n",
        "\n",
        "summary(diabetes)\n"
      ]
    },
    {
      "cell_type": "markdown",
      "source": [
        "Firstly, the variables where 0 makes sense would be Pregnancies and Outcome because for the former, it is sensible that a patient can have no kids and for the latter, 0 is a categorical number.\n",
        "\n",
        "For the rest of the variables, 0 does not make sense because:\n",
        "1. For Blood pressure, 0 means the patient is dead.\n",
        "2. For Skin Thickness, it would be impossible to find an area where there is no skin.\n",
        "3. Insulin of 0 would indicate death and, thus, makes no sense.\n",
        "4. 0 is not a valid measurement of BMI as the lowest measurement is around 9-10.\n",
        "5. For Age, 0 makes no sense because not only it would not make sense to take samples from an infant but the dataset itself does not have anyone that is 0 years-old.\n",
        "\n",
        "As such, I will be replacing 0 with NA as my first course of action. Then, I would use KNN imputation with the k value of square root of the number of rows to replace the NAs in each column (variable). The reason why I’m using it over the Mean imputation would be that I find it to be less fitting for the dataset as a whole. Particularly, I found out that after using the KNN imputation, key factors such as the mean and median of each variable did not change (or had minor immaterial changes).\n"
      ],
      "metadata": {
        "id": "9lnWVWlkUVJi"
      }
    },
    {
      "cell_type": "markdown",
      "metadata": {
        "id": "YisSj-43Jog5"
      },
      "source": [
        "## Part 4 Data Processing\n",
        "\n"
      ]
    },
    {
      "cell_type": "code",
      "execution_count": 46,
      "metadata": {
        "colab": {
          "base_uri": "https://localhost:8080/",
          "height": 869
        },
        "id": "uIqtlIDqJog5",
        "outputId": "02780dae-2049-47cd-9c6c-6446985e241f"
      },
      "outputs": [
        {
          "output_type": "display_data",
          "data": {
            "text/html": [
              "<table class=\"dataframe\">\n",
              "<caption>A data.frame: 6 × 8</caption>\n",
              "<thead>\n",
              "\t<tr><th></th><th scope=col>Pregnancies</th><th scope=col>Glucose</th><th scope=col>BloodPressure</th><th scope=col>SkinThickness</th><th scope=col>Insulin</th><th scope=col>BMI</th><th scope=col>DiabetesPedigreeFunction</th><th scope=col>Age</th></tr>\n",
              "\t<tr><th></th><th scope=col>&lt;dbl&gt;</th><th scope=col>&lt;dbl&gt;</th><th scope=col>&lt;dbl&gt;</th><th scope=col>&lt;dbl&gt;</th><th scope=col>&lt;dbl&gt;</th><th scope=col>&lt;dbl&gt;</th><th scope=col>&lt;dbl&gt;</th><th scope=col>&lt;dbl&gt;</th></tr>\n",
              "</thead>\n",
              "<tbody>\n",
              "\t<tr><th scope=row>1</th><td> 0.6498332</td><td> 0.8763319</td><td>-0.02767355</td><td> 0.652114154</td><td> 0.3037062</td><td> 0.1878441</td><td> 0.4384050</td><td> 1.443781494</td></tr>\n",
              "\t<tr><th scope=row>2</th><td>-0.8357540</td><td>-1.1835179</td><td>-0.52729339</td><td> 0.005165261</td><td>-0.7493731</td><td>-0.8278348</td><td>-0.3700352</td><td>-0.178571292</td></tr>\n",
              "\t<tr><th scope=row>3</th><td> 1.2440682</td><td> 2.0206929</td><td>-0.69383334</td><td>-0.102659555</td><td> 0.3458293</td><td>-1.3066549</td><td> 0.5702159</td><td>-0.093184304</td></tr>\n",
              "\t<tr><th scope=row>4</th><td>-0.8357540</td><td>-1.0527338</td><td>-0.52729339</td><td>-0.641783633</td><td>-0.5071649</td><td>-0.6101893</td><td>-0.9089953</td><td>-1.032441180</td></tr>\n",
              "\t<tr><th scope=row>5</th><td>-1.1328715</td><td> 0.5166756</td><td>-2.69231270</td><td> 0.652114154</td><td> 0.2721138</td><td> 1.5662655</td><td> 5.3036918</td><td>-0.007797315</td></tr>\n",
              "\t<tr><th scope=row>6</th><td> 0.3527158</td><td>-0.1699410</td><td> 0.13886639</td><td>-0.749608449</td><td>-0.3913261</td><td>-0.9729318</td><td>-0.8094049</td><td>-0.263958281</td></tr>\n",
              "</tbody>\n",
              "</table>\n"
            ],
            "text/markdown": "\nA data.frame: 6 × 8\n\n| <!--/--> | Pregnancies &lt;dbl&gt; | Glucose &lt;dbl&gt; | BloodPressure &lt;dbl&gt; | SkinThickness &lt;dbl&gt; | Insulin &lt;dbl&gt; | BMI &lt;dbl&gt; | DiabetesPedigreeFunction &lt;dbl&gt; | Age &lt;dbl&gt; |\n|---|---|---|---|---|---|---|---|---|\n| 1 |  0.6498332 |  0.8763319 | -0.02767355 |  0.652114154 |  0.3037062 |  0.1878441 |  0.4384050 |  1.443781494 |\n| 2 | -0.8357540 | -1.1835179 | -0.52729339 |  0.005165261 | -0.7493731 | -0.8278348 | -0.3700352 | -0.178571292 |\n| 3 |  1.2440682 |  2.0206929 | -0.69383334 | -0.102659555 |  0.3458293 | -1.3066549 |  0.5702159 | -0.093184304 |\n| 4 | -0.8357540 | -1.0527338 | -0.52729339 | -0.641783633 | -0.5071649 | -0.6101893 | -0.9089953 | -1.032441180 |\n| 5 | -1.1328715 |  0.5166756 | -2.69231270 |  0.652114154 |  0.2721138 |  1.5662655 |  5.3036918 | -0.007797315 |\n| 6 |  0.3527158 | -0.1699410 |  0.13886639 | -0.749608449 | -0.3913261 | -0.9729318 | -0.8094049 | -0.263958281 |\n\n",
            "text/latex": "A data.frame: 6 × 8\n\\begin{tabular}{r|llllllll}\n  & Pregnancies & Glucose & BloodPressure & SkinThickness & Insulin & BMI & DiabetesPedigreeFunction & Age\\\\\n  & <dbl> & <dbl> & <dbl> & <dbl> & <dbl> & <dbl> & <dbl> & <dbl>\\\\\n\\hline\n\t1 &  0.6498332 &  0.8763319 & -0.02767355 &  0.652114154 &  0.3037062 &  0.1878441 &  0.4384050 &  1.443781494\\\\\n\t2 & -0.8357540 & -1.1835179 & -0.52729339 &  0.005165261 & -0.7493731 & -0.8278348 & -0.3700352 & -0.178571292\\\\\n\t3 &  1.2440682 &  2.0206929 & -0.69383334 & -0.102659555 &  0.3458293 & -1.3066549 &  0.5702159 & -0.093184304\\\\\n\t4 & -0.8357540 & -1.0527338 & -0.52729339 & -0.641783633 & -0.5071649 & -0.6101893 & -0.9089953 & -1.032441180\\\\\n\t5 & -1.1328715 &  0.5166756 & -2.69231270 &  0.652114154 &  0.2721138 &  1.5662655 &  5.3036918 & -0.007797315\\\\\n\t6 &  0.3527158 & -0.1699410 &  0.13886639 & -0.749608449 & -0.3913261 & -0.9729318 & -0.8094049 & -0.263958281\\\\\n\\end{tabular}\n",
            "text/plain": [
              "  Pregnancies Glucose    BloodPressure SkinThickness Insulin    BMI       \n",
              "1  0.6498332   0.8763319 -0.02767355    0.652114154   0.3037062  0.1878441\n",
              "2 -0.8357540  -1.1835179 -0.52729339    0.005165261  -0.7493731 -0.8278348\n",
              "3  1.2440682   2.0206929 -0.69383334   -0.102659555   0.3458293 -1.3066549\n",
              "4 -0.8357540  -1.0527338 -0.52729339   -0.641783633  -0.5071649 -0.6101893\n",
              "5 -1.1328715   0.5166756 -2.69231270    0.652114154   0.2721138  1.5662655\n",
              "6  0.3527158  -0.1699410  0.13886639   -0.749608449  -0.3913261 -0.9729318\n",
              "  DiabetesPedigreeFunction Age         \n",
              "1  0.4384050                1.443781494\n",
              "2 -0.3700352               -0.178571292\n",
              "3  0.5702159               -0.093184304\n",
              "4 -0.9089953               -1.032441180\n",
              "5  5.3036918               -0.007797315\n",
              "6 -0.8094049               -0.263958281"
            ]
          },
          "metadata": {}
        },
        {
          "output_type": "display_data",
          "data": {
            "text/html": [
              "<table class=\"dataframe\">\n",
              "<caption>A data.frame: 6 × 8</caption>\n",
              "<thead>\n",
              "\t<tr><th></th><th scope=col>Pregnancies</th><th scope=col>Glucose</th><th scope=col>BloodPressure</th><th scope=col>SkinThickness</th><th scope=col>Insulin</th><th scope=col>BMI</th><th scope=col>DiabetesPedigreeFunction</th><th scope=col>Age</th></tr>\n",
              "\t<tr><th></th><th scope=col>&lt;dbl&gt;</th><th scope=col>&lt;dbl&gt;</th><th scope=col>&lt;dbl&gt;</th><th scope=col>&lt;dbl&gt;</th><th scope=col>&lt;dbl&gt;</th><th scope=col>&lt;dbl&gt;</th><th scope=col>&lt;dbl&gt;</th><th scope=col>&lt;dbl&gt;</th></tr>\n",
              "</thead>\n",
              "<tbody>\n",
              "\t<tr><th scope=row>1</th><td> 0.6498332</td><td> 0.8763319</td><td>-0.02767355</td><td> 0.652114154</td><td> 0.3037062</td><td> 0.1878441</td><td> 0.4384050</td><td> 1.443781494</td></tr>\n",
              "\t<tr><th scope=row>2</th><td>-0.8357540</td><td>-1.1835179</td><td>-0.52729339</td><td> 0.005165261</td><td>-0.7493731</td><td>-0.8278348</td><td>-0.3700352</td><td>-0.178571292</td></tr>\n",
              "\t<tr><th scope=row>3</th><td> 1.2440682</td><td> 2.0206929</td><td>-0.69383334</td><td>-0.102659555</td><td> 0.3458293</td><td>-1.3066549</td><td> 0.5702159</td><td>-0.093184304</td></tr>\n",
              "\t<tr><th scope=row>4</th><td>-0.8357540</td><td>-1.0527338</td><td>-0.52729339</td><td>-0.641783633</td><td>-0.5071649</td><td>-0.6101893</td><td>-0.9089953</td><td>-1.032441180</td></tr>\n",
              "\t<tr><th scope=row>5</th><td>-1.1328715</td><td> 0.5166756</td><td>-2.69231270</td><td> 0.652114154</td><td> 0.2721138</td><td> 1.5662655</td><td> 5.3036918</td><td>-0.007797315</td></tr>\n",
              "\t<tr><th scope=row>6</th><td> 0.3527158</td><td>-0.1699410</td><td> 0.13886639</td><td>-0.749608449</td><td>-0.3913261</td><td>-0.9729318</td><td>-0.8094049</td><td>-0.263958281</td></tr>\n",
              "</tbody>\n",
              "</table>\n"
            ],
            "text/markdown": "\nA data.frame: 6 × 8\n\n| <!--/--> | Pregnancies &lt;dbl&gt; | Glucose &lt;dbl&gt; | BloodPressure &lt;dbl&gt; | SkinThickness &lt;dbl&gt; | Insulin &lt;dbl&gt; | BMI &lt;dbl&gt; | DiabetesPedigreeFunction &lt;dbl&gt; | Age &lt;dbl&gt; |\n|---|---|---|---|---|---|---|---|---|\n| 1 |  0.6498332 |  0.8763319 | -0.02767355 |  0.652114154 |  0.3037062 |  0.1878441 |  0.4384050 |  1.443781494 |\n| 2 | -0.8357540 | -1.1835179 | -0.52729339 |  0.005165261 | -0.7493731 | -0.8278348 | -0.3700352 | -0.178571292 |\n| 3 |  1.2440682 |  2.0206929 | -0.69383334 | -0.102659555 |  0.3458293 | -1.3066549 |  0.5702159 | -0.093184304 |\n| 4 | -0.8357540 | -1.0527338 | -0.52729339 | -0.641783633 | -0.5071649 | -0.6101893 | -0.9089953 | -1.032441180 |\n| 5 | -1.1328715 |  0.5166756 | -2.69231270 |  0.652114154 |  0.2721138 |  1.5662655 |  5.3036918 | -0.007797315 |\n| 6 |  0.3527158 | -0.1699410 |  0.13886639 | -0.749608449 | -0.3913261 | -0.9729318 | -0.8094049 | -0.263958281 |\n\n",
            "text/latex": "A data.frame: 6 × 8\n\\begin{tabular}{r|llllllll}\n  & Pregnancies & Glucose & BloodPressure & SkinThickness & Insulin & BMI & DiabetesPedigreeFunction & Age\\\\\n  & <dbl> & <dbl> & <dbl> & <dbl> & <dbl> & <dbl> & <dbl> & <dbl>\\\\\n\\hline\n\t1 &  0.6498332 &  0.8763319 & -0.02767355 &  0.652114154 &  0.3037062 &  0.1878441 &  0.4384050 &  1.443781494\\\\\n\t2 & -0.8357540 & -1.1835179 & -0.52729339 &  0.005165261 & -0.7493731 & -0.8278348 & -0.3700352 & -0.178571292\\\\\n\t3 &  1.2440682 &  2.0206929 & -0.69383334 & -0.102659555 &  0.3458293 & -1.3066549 &  0.5702159 & -0.093184304\\\\\n\t4 & -0.8357540 & -1.0527338 & -0.52729339 & -0.641783633 & -0.5071649 & -0.6101893 & -0.9089953 & -1.032441180\\\\\n\t5 & -1.1328715 &  0.5166756 & -2.69231270 &  0.652114154 &  0.2721138 &  1.5662655 &  5.3036918 & -0.007797315\\\\\n\t6 &  0.3527158 & -0.1699410 &  0.13886639 & -0.749608449 & -0.3913261 & -0.9729318 & -0.8094049 & -0.263958281\\\\\n\\end{tabular}\n",
            "text/plain": [
              "  Pregnancies Glucose    BloodPressure SkinThickness Insulin    BMI       \n",
              "1  0.6498332   0.8763319 -0.02767355    0.652114154   0.3037062  0.1878441\n",
              "2 -0.8357540  -1.1835179 -0.52729339    0.005165261  -0.7493731 -0.8278348\n",
              "3  1.2440682   2.0206929 -0.69383334   -0.102659555   0.3458293 -1.3066549\n",
              "4 -0.8357540  -1.0527338 -0.52729339   -0.641783633  -0.5071649 -0.6101893\n",
              "5 -1.1328715   0.5166756 -2.69231270    0.652114154   0.2721138  1.5662655\n",
              "6  0.3527158  -0.1699410  0.13886639   -0.749608449  -0.3913261 -0.9729318\n",
              "  DiabetesPedigreeFunction Age         \n",
              "1  0.4384050                1.443781494\n",
              "2 -0.3700352               -0.178571292\n",
              "3  0.5702159               -0.093184304\n",
              "4 -0.9089953               -1.032441180\n",
              "5  5.3036918               -0.007797315\n",
              "6 -0.8094049               -0.263958281"
            ]
          },
          "metadata": {}
        },
        {
          "output_type": "display_data",
          "data": {
            "text/html": [
              "<style>\n",
              ".dl-inline {width: auto; margin:0; padding: 0}\n",
              ".dl-inline>dt, .dl-inline>dd {float: none; width: auto; display: inline-block}\n",
              ".dl-inline>dt::after {content: \":\\0020\"; padding-right: .5ex}\n",
              ".dl-inline>dt:not(:first-of-type) {padding-left: .5ex}\n",
              "</style><dl class=dl-inline><dt>Pregnancies</dt><dd>1</dd><dt>Glucose</dt><dd>1</dd><dt>BloodPressure</dt><dd>1</dd><dt>SkinThickness</dt><dd>1</dd><dt>Insulin</dt><dd>1</dd><dt>BMI</dt><dd>1</dd><dt>DiabetesPedigreeFunction</dt><dd>1</dd><dt>Age</dt><dd>1</dd></dl>\n"
            ],
            "text/markdown": "Pregnancies\n:   1Glucose\n:   1BloodPressure\n:   1SkinThickness\n:   1Insulin\n:   1BMI\n:   1DiabetesPedigreeFunction\n:   1Age\n:   1\n\n",
            "text/latex": "\\begin{description*}\n\\item[Pregnancies] 1\n\\item[Glucose] 1\n\\item[BloodPressure] 1\n\\item[SkinThickness] 1\n\\item[Insulin] 1\n\\item[BMI] 1\n\\item[DiabetesPedigreeFunction] 1\n\\item[Age] 1\n\\end{description*}\n",
            "text/plain": [
              "             Pregnancies                  Glucose            BloodPressure \n",
              "                       1                        1                        1 \n",
              "           SkinThickness                  Insulin                      BMI \n",
              "                       1                        1                        1 \n",
              "DiabetesPedigreeFunction                      Age \n",
              "                       1                        1 "
            ]
          },
          "metadata": {}
        },
        {
          "output_type": "display_data",
          "data": {
            "text/html": [
              "<table class=\"dataframe\">\n",
              "<caption>A data.frame: 6 × 9</caption>\n",
              "<thead>\n",
              "\t<tr><th></th><th scope=col>Pregnancies</th><th scope=col>Glucose</th><th scope=col>BloodPressure</th><th scope=col>SkinThickness</th><th scope=col>Insulin</th><th scope=col>BMI</th><th scope=col>DiabetesPedigreeFunction</th><th scope=col>Age</th><th scope=col>Outcome</th></tr>\n",
              "\t<tr><th></th><th scope=col>&lt;dbl&gt;</th><th scope=col>&lt;dbl&gt;</th><th scope=col>&lt;dbl&gt;</th><th scope=col>&lt;dbl&gt;</th><th scope=col>&lt;dbl&gt;</th><th scope=col>&lt;dbl&gt;</th><th scope=col>&lt;dbl&gt;</th><th scope=col>&lt;dbl&gt;</th><th scope=col>&lt;fct&gt;</th></tr>\n",
              "</thead>\n",
              "<tbody>\n",
              "\t<tr><th scope=row>1</th><td> 0.6498332</td><td> 0.8763319</td><td>-0.02767355</td><td> 0.652114154</td><td> 0.3037062</td><td> 0.1878441</td><td> 0.4384050</td><td> 1.443781494</td><td>1</td></tr>\n",
              "\t<tr><th scope=row>2</th><td>-0.8357540</td><td>-1.1835179</td><td>-0.52729339</td><td> 0.005165261</td><td>-0.7493731</td><td>-0.8278348</td><td>-0.3700352</td><td>-0.178571292</td><td>0</td></tr>\n",
              "\t<tr><th scope=row>3</th><td> 1.2440682</td><td> 2.0206929</td><td>-0.69383334</td><td>-0.102659555</td><td> 0.3458293</td><td>-1.3066549</td><td> 0.5702159</td><td>-0.093184304</td><td>1</td></tr>\n",
              "\t<tr><th scope=row>4</th><td>-0.8357540</td><td>-1.0527338</td><td>-0.52729339</td><td>-0.641783633</td><td>-0.5071649</td><td>-0.6101893</td><td>-0.9089953</td><td>-1.032441180</td><td>0</td></tr>\n",
              "\t<tr><th scope=row>5</th><td>-1.1328715</td><td> 0.5166756</td><td>-2.69231270</td><td> 0.652114154</td><td> 0.2721138</td><td> 1.5662655</td><td> 5.3036918</td><td>-0.007797315</td><td>1</td></tr>\n",
              "\t<tr><th scope=row>6</th><td> 0.3527158</td><td>-0.1699410</td><td> 0.13886639</td><td>-0.749608449</td><td>-0.3913261</td><td>-0.9729318</td><td>-0.8094049</td><td>-0.263958281</td><td>0</td></tr>\n",
              "</tbody>\n",
              "</table>\n"
            ],
            "text/markdown": "\nA data.frame: 6 × 9\n\n| <!--/--> | Pregnancies &lt;dbl&gt; | Glucose &lt;dbl&gt; | BloodPressure &lt;dbl&gt; | SkinThickness &lt;dbl&gt; | Insulin &lt;dbl&gt; | BMI &lt;dbl&gt; | DiabetesPedigreeFunction &lt;dbl&gt; | Age &lt;dbl&gt; | Outcome &lt;fct&gt; |\n|---|---|---|---|---|---|---|---|---|---|\n| 1 |  0.6498332 |  0.8763319 | -0.02767355 |  0.652114154 |  0.3037062 |  0.1878441 |  0.4384050 |  1.443781494 | 1 |\n| 2 | -0.8357540 | -1.1835179 | -0.52729339 |  0.005165261 | -0.7493731 | -0.8278348 | -0.3700352 | -0.178571292 | 0 |\n| 3 |  1.2440682 |  2.0206929 | -0.69383334 | -0.102659555 |  0.3458293 | -1.3066549 |  0.5702159 | -0.093184304 | 1 |\n| 4 | -0.8357540 | -1.0527338 | -0.52729339 | -0.641783633 | -0.5071649 | -0.6101893 | -0.9089953 | -1.032441180 | 0 |\n| 5 | -1.1328715 |  0.5166756 | -2.69231270 |  0.652114154 |  0.2721138 |  1.5662655 |  5.3036918 | -0.007797315 | 1 |\n| 6 |  0.3527158 | -0.1699410 |  0.13886639 | -0.749608449 | -0.3913261 | -0.9729318 | -0.8094049 | -0.263958281 | 0 |\n\n",
            "text/latex": "A data.frame: 6 × 9\n\\begin{tabular}{r|lllllllll}\n  & Pregnancies & Glucose & BloodPressure & SkinThickness & Insulin & BMI & DiabetesPedigreeFunction & Age & Outcome\\\\\n  & <dbl> & <dbl> & <dbl> & <dbl> & <dbl> & <dbl> & <dbl> & <dbl> & <fct>\\\\\n\\hline\n\t1 &  0.6498332 &  0.8763319 & -0.02767355 &  0.652114154 &  0.3037062 &  0.1878441 &  0.4384050 &  1.443781494 & 1\\\\\n\t2 & -0.8357540 & -1.1835179 & -0.52729339 &  0.005165261 & -0.7493731 & -0.8278348 & -0.3700352 & -0.178571292 & 0\\\\\n\t3 &  1.2440682 &  2.0206929 & -0.69383334 & -0.102659555 &  0.3458293 & -1.3066549 &  0.5702159 & -0.093184304 & 1\\\\\n\t4 & -0.8357540 & -1.0527338 & -0.52729339 & -0.641783633 & -0.5071649 & -0.6101893 & -0.9089953 & -1.032441180 & 0\\\\\n\t5 & -1.1328715 &  0.5166756 & -2.69231270 &  0.652114154 &  0.2721138 &  1.5662655 &  5.3036918 & -0.007797315 & 1\\\\\n\t6 &  0.3527158 & -0.1699410 &  0.13886639 & -0.749608449 & -0.3913261 & -0.9729318 & -0.8094049 & -0.263958281 & 0\\\\\n\\end{tabular}\n",
            "text/plain": [
              "  Pregnancies Glucose    BloodPressure SkinThickness Insulin    BMI       \n",
              "1  0.6498332   0.8763319 -0.02767355    0.652114154   0.3037062  0.1878441\n",
              "2 -0.8357540  -1.1835179 -0.52729339    0.005165261  -0.7493731 -0.8278348\n",
              "3  1.2440682   2.0206929 -0.69383334   -0.102659555   0.3458293 -1.3066549\n",
              "4 -0.8357540  -1.0527338 -0.52729339   -0.641783633  -0.5071649 -0.6101893\n",
              "5 -1.1328715   0.5166756 -2.69231270    0.652114154   0.2721138  1.5662655\n",
              "6  0.3527158  -0.1699410  0.13886639   -0.749608449  -0.3913261 -0.9729318\n",
              "  DiabetesPedigreeFunction Age          Outcome\n",
              "1  0.4384050                1.443781494 1      \n",
              "2 -0.3700352               -0.178571292 0      \n",
              "3  0.5702159               -0.093184304 1      \n",
              "4 -0.9089953               -1.032441180 0      \n",
              "5  5.3036918               -0.007797315 1      \n",
              "6 -0.8094049               -0.263958281 0      "
            ]
          },
          "metadata": {}
        }
      ],
      "source": [
        "sub_diabetes = diabetes[,-9]\n",
        "head(sub_diabetes)\n",
        "\n",
        "sub_diabetes_norm <- as.data.frame(lapply(sub_diabetes, function(x) (x - mean(x)) / sd(x)))\n",
        "head(sub_diabetes_norm)\n",
        "\n",
        "diabetes[,1:8]<-sub_diabetes_norm[,1:8]\n",
        "\n",
        "sd_values_normalized <- apply(diabetes[,-9], 2, sd)\n",
        "sd_values_normalized\n",
        "\n",
        "head(diabetes)\n"
      ]
    },
    {
      "cell_type": "markdown",
      "metadata": {
        "id": "nXXeHGbaJog6"
      },
      "source": [
        "##Part 5 Building the model\n",
        "\n",
        "###5.1. Balance and Leave out 30%\n"
      ]
    },
    {
      "cell_type": "markdown",
      "source": [
        "I will be using several different types of models and I will be leaving out the 30% of the dataset for testing. The key reasoning is that I believe the models really fit the binary-aspect of the “Outcomes” because we learned these models using a dataset that also had binary results (dead or alive). I will be employing the following models:\n",
        "\n",
        "**Logistic Regression (LR)**\n",
        "\n",
        "Logistic regression is a classification algorithm that is used to predict the outcome variable (in this case, whether or not an individual has diabetes) based on one or more input variables (in this case, the other clinical measurements such as Blood Pressure). As such, I found it fitting to create a LR model and test it. Initially, I created a LR model for each of the attributes to identify which one has the highest AUC (i.e. the one performing the best). Surprisingly, when I did so, I found out that Glucose’ model had the highest AUC which correlated with my prediction based off the boxplots. Then I created a LR model containing all of the attributes and compared its AUC to that of Glucose. The result was that the former had the higher AUC and, thus, I decided to compare it with the AUCs of the other models.  Out of the coefficients, Glucose has the highest coefficient. A high positive coefficient suggests that the  corresponding predictor variable has a strong relationship with the outcome variable compared to the other predictor variables in the model. However, as the coefficient is significantly higher than the others - while the others have similar coefficients - its magnitude may suggest that the model was overfitted to the training data. As such, cross-validation is needed to assess the performance pf the model on multiple splits of data.\n",
        "\n",
        "**Decision Tree (DTree)**\n",
        "\n",
        "A decision tree is a classification algorithm that recursively partitions the input space based on the values of the input variables. I mainly chose to create the model because it is easier to make (as there is no need for hypertuning any parameters) and interpret and it can handle both categorical and numeric data.\n",
        "\n",
        "**Random Forest**\n",
        "\n",
        "Random forest is an ensemble learning algorithm that consists of many decision trees. Each tree is trained on a random subset of the input variables and a random subset of the training data. Random forests are less prone to overfitting than decision trees and can handle both categorical and numeric data. I also plotted variable importance of the best model. The first plot shows how much accuracy is affected by changing the values in the different variable. Glucose is the most important because changing its values alters the results the most. The second plot shows a measurement that is similar to Information gain. Insulin has the most informative variable if the patient will live or die.\n",
        "\n",
        "**KNN**\n",
        "\n",
        "KNN is a classification algorithm that assigns the class of a new data point based on the class of its nearest neighbors in the input space. However, it can be slow to classify new data points, and the choice of k can be important and may require tuning. As such, I had to hypertune the k by creating a for loop that would create KNN models using k values from 5 to 50 (with an interval of 5) and return the model with the highest performing k-value (based on the AUC of each model created for each k value).\n",
        "\n",
        "**SVM**\n",
        "SVM is a classification algorithm that finds the hyperplane that maximally separates the data into two classes. It is a powerful algorithm that can handle both linear and nonlinear separable data. However, it can be sensitive to the choice of kernel and may be slow to train on large datasets.  As such, I had to hypertune both the type of kernel and the cost by (1) creating a matrix for the kernel types (linear, polynomial and radial) and cost values from 5 to 100 (with an interval of 5) and (2) using for loops to identify the highest performing SVM model with the best kernel type and the cost value. I decided not to use Sigmoid kernel type in my hypertuning because it is prone to approaching extreme values (1 or 0). I tried including Sigmoid but ended up with a model having an AUC of 1, which is perfect and, realistically, unattainable. A key issue I faced was when I received the error that the ‘response’ had more than 2 levels. However, since this was an issue I discussed with the professor before, I figured it would be better to stick with what he said – to continue using roc().\n",
        "\n",
        "**Neural Nets**\n",
        "\n",
        "Neural networks are a powerful class of machine learning models that are based on the structure and function of the human brain. Neural networks are highly flexible and can learn complex patterns in the data. However, they can be difficult to train and may require extensive tuning of hyperparameters. As such, I had to rescale the original data to fit the model and hypertune using 5, 10, 15 and 20 for the hidden nodes. I had to choose a small number of nodes because it kept crashing. I also used a similar for loop as I used for SVM and KNN models.\n"
      ],
      "metadata": {
        "id": "ybt5larLUv0H"
      }
    },
    {
      "cell_type": "code",
      "execution_count": 22,
      "metadata": {
        "colab": {
          "base_uri": "https://localhost:8080/",
          "height": 456
        },
        "id": "VyziIQKIJog6",
        "outputId": "8cdd9633-5262-4e25-b4df-e1ff37577a1b"
      },
      "outputs": [
        {
          "output_type": "display_data",
          "data": {
            "text/html": [
              "<table class=\"dataframe\">\n",
              "<caption>A data.frame: 6 × 9</caption>\n",
              "<thead>\n",
              "\t<tr><th></th><th scope=col>Pregnancies</th><th scope=col>Glucose</th><th scope=col>BloodPressure</th><th scope=col>SkinThickness</th><th scope=col>Insulin</th><th scope=col>BMI</th><th scope=col>DiabetesPedigreeFunction</th><th scope=col>Age</th><th scope=col>Outcome</th></tr>\n",
              "\t<tr><th></th><th scope=col>&lt;dbl&gt;</th><th scope=col>&lt;dbl&gt;</th><th scope=col>&lt;dbl&gt;</th><th scope=col>&lt;dbl&gt;</th><th scope=col>&lt;dbl&gt;</th><th scope=col>&lt;dbl&gt;</th><th scope=col>&lt;dbl&gt;</th><th scope=col>&lt;dbl&gt;</th><th scope=col>&lt;fct&gt;</th></tr>\n",
              "</thead>\n",
              "<tbody>\n",
              "\t<tr><th scope=row>462</th><td>-0.8357540</td><td>-1.6412624</td><td>-0.8603733</td><td>-0.7496084</td><td>-0.9178658</td><td>-1.5243003</td><td>-0.1796417</td><td>-0.6055062</td><td>0</td></tr>\n",
              "\t<tr><th scope=row>29</th><td> 2.7296555</td><td> 0.7782438</td><td> 0.8050262</td><td>-1.0730829</td><td>-0.3386722</td><td>-1.4662615</td><td>-0.6805231</td><td> 2.0414904</td><td>0</td></tr>\n",
              "\t<tr><th scope=row>431</th><td>-0.5386366</td><td>-0.7257735</td><td>-0.1942135</td><td>-0.7496084</td><td>-0.8862734</td><td>-1.4662615</td><td>-1.0818141</td><td>-0.8616672</td><td>0</td></tr>\n",
              "\t<tr><th scope=row>551</th><td>-0.8357540</td><td>-0.1699410</td><td>-0.1942135</td><td>-0.1026596</td><td>-0.2333643</td><td>-0.7117572</td><td>-0.8006175</td><td>-1.0324412</td><td>0</td></tr>\n",
              "\t<tr><th scope=row>91</th><td>-0.8357540</td><td>-1.3469981</td><td>-1.4432631</td><td>-0.7496084</td><td>-0.6967191</td><td>-1.9160622</td><td>-0.6424444</td><td>-1.0324412</td><td>0</td></tr>\n",
              "\t<tr><th scope=row>479</th><td> 1.2440682</td><td> 0.1570193</td><td> 0.1388664</td><td> 0.9755886</td><td>-0.7072499</td><td>-0.9294027</td><td>-0.9236410</td><td> 0.5045246</td><td>0</td></tr>\n",
              "</tbody>\n",
              "</table>\n"
            ],
            "text/markdown": "\nA data.frame: 6 × 9\n\n| <!--/--> | Pregnancies &lt;dbl&gt; | Glucose &lt;dbl&gt; | BloodPressure &lt;dbl&gt; | SkinThickness &lt;dbl&gt; | Insulin &lt;dbl&gt; | BMI &lt;dbl&gt; | DiabetesPedigreeFunction &lt;dbl&gt; | Age &lt;dbl&gt; | Outcome &lt;fct&gt; |\n|---|---|---|---|---|---|---|---|---|---|\n| 462 | -0.8357540 | -1.6412624 | -0.8603733 | -0.7496084 | -0.9178658 | -1.5243003 | -0.1796417 | -0.6055062 | 0 |\n| 29 |  2.7296555 |  0.7782438 |  0.8050262 | -1.0730829 | -0.3386722 | -1.4662615 | -0.6805231 |  2.0414904 | 0 |\n| 431 | -0.5386366 | -0.7257735 | -0.1942135 | -0.7496084 | -0.8862734 | -1.4662615 | -1.0818141 | -0.8616672 | 0 |\n| 551 | -0.8357540 | -0.1699410 | -0.1942135 | -0.1026596 | -0.2333643 | -0.7117572 | -0.8006175 | -1.0324412 | 0 |\n| 91 | -0.8357540 | -1.3469981 | -1.4432631 | -0.7496084 | -0.6967191 | -1.9160622 | -0.6424444 | -1.0324412 | 0 |\n| 479 |  1.2440682 |  0.1570193 |  0.1388664 |  0.9755886 | -0.7072499 | -0.9294027 | -0.9236410 |  0.5045246 | 0 |\n\n",
            "text/latex": "A data.frame: 6 × 9\n\\begin{tabular}{r|lllllllll}\n  & Pregnancies & Glucose & BloodPressure & SkinThickness & Insulin & BMI & DiabetesPedigreeFunction & Age & Outcome\\\\\n  & <dbl> & <dbl> & <dbl> & <dbl> & <dbl> & <dbl> & <dbl> & <dbl> & <fct>\\\\\n\\hline\n\t462 & -0.8357540 & -1.6412624 & -0.8603733 & -0.7496084 & -0.9178658 & -1.5243003 & -0.1796417 & -0.6055062 & 0\\\\\n\t29 &  2.7296555 &  0.7782438 &  0.8050262 & -1.0730829 & -0.3386722 & -1.4662615 & -0.6805231 &  2.0414904 & 0\\\\\n\t431 & -0.5386366 & -0.7257735 & -0.1942135 & -0.7496084 & -0.8862734 & -1.4662615 & -1.0818141 & -0.8616672 & 0\\\\\n\t551 & -0.8357540 & -0.1699410 & -0.1942135 & -0.1026596 & -0.2333643 & -0.7117572 & -0.8006175 & -1.0324412 & 0\\\\\n\t91 & -0.8357540 & -1.3469981 & -1.4432631 & -0.7496084 & -0.6967191 & -1.9160622 & -0.6424444 & -1.0324412 & 0\\\\\n\t479 &  1.2440682 &  0.1570193 &  0.1388664 &  0.9755886 & -0.7072499 & -0.9294027 & -0.9236410 &  0.5045246 & 0\\\\\n\\end{tabular}\n",
            "text/plain": [
              "    Pregnancies Glucose    BloodPressure SkinThickness Insulin    BMI       \n",
              "462 -0.8357540  -1.6412624 -0.8603733    -0.7496084    -0.9178658 -1.5243003\n",
              "29   2.7296555   0.7782438  0.8050262    -1.0730829    -0.3386722 -1.4662615\n",
              "431 -0.5386366  -0.7257735 -0.1942135    -0.7496084    -0.8862734 -1.4662615\n",
              "551 -0.8357540  -0.1699410 -0.1942135    -0.1026596    -0.2333643 -0.7117572\n",
              "91  -0.8357540  -1.3469981 -1.4432631    -0.7496084    -0.6967191 -1.9160622\n",
              "479  1.2440682   0.1570193  0.1388664     0.9755886    -0.7072499 -0.9294027\n",
              "    DiabetesPedigreeFunction Age        Outcome\n",
              "462 -0.1796417               -0.6055062 0      \n",
              "29  -0.6805231                2.0414904 0      \n",
              "431 -1.0818141               -0.8616672 0      \n",
              "551 -0.8006175               -1.0324412 0      \n",
              "91  -0.6424444               -1.0324412 0      \n",
              "479 -0.9236410                0.5045246 0      "
            ]
          },
          "metadata": {}
        },
        {
          "output_type": "stream",
          "name": "stdout",
          "text": [
            "Training Set:\n",
            "\n",
            "  0   1 \n",
            "158 165 \n",
            "\n",
            "Test Set:\n",
            "\n",
            " 0  1 \n",
            "73 66 \n"
          ]
        }
      ],
      "source": [
        "# Separate the dataset into features and outcome variable\n",
        "features <- diabetes[, -9]\n",
        "outcome <- diabetes$Outcome\n",
        "\n",
        "# Balance the dataset --> balancing the classes by randomly undersampling the majority class (class with more samples) to match the number of samples in the minority class (class with fewer samples).\n",
        "\n",
        "all_0 <- diabetes[outcome == 0, ]\n",
        "all_1 <- diabetes[outcome == 1, ]\n",
        "\n",
        "\n",
        "sampled_0 <- all_0[sample(nrow(all_0), nrow(all_1)), ]\n",
        "balanced_diabetes <- rbind(sampled_0, all_1)\n",
        "\n",
        "head(balanced_diabetes)\n",
        "\n",
        "# Randomly remove 20% of the data and save it as test_set and the other 80% as training_set.\n",
        "train_indices <- sample(1:nrow(balanced_diabetes), round(0.7 * nrow(balanced_diabetes)))\n",
        "\n",
        "# create the training set\n",
        "training_set <- balanced_diabetes[train_indices, ]\n",
        "\n",
        "# create the test set\n",
        "test_set <- balanced_diabetes[-train_indices, ]\n",
        "\n",
        "#Print out the number of observations for each diagnosis class in the training_set and the test_set.\n",
        "cat(\"Training Set:\")\n",
        "cat('\\n')\n",
        "print(table(training_set$Outcome))\n",
        "\n",
        "cat(\"\\nTest Set:\")\n",
        "cat('\\n')\n",
        "print(table(test_set$Outcome))\n"
      ]
    },
    {
      "cell_type": "markdown",
      "metadata": {
        "id": "yDzVYChfJog7"
      },
      "source": [
        "### 5.2. Logistic Regression\n",
        " 2.1. Logistic Regression for each variable --> compare it with graphs above\n"
      ]
    },
    {
      "cell_type": "code",
      "execution_count": 23,
      "metadata": {
        "id": "5m9vsTZ2Jog7"
      },
      "outputs": [],
      "source": [
        "# perform a logistic regression\n",
        "# Using the training_set, create a logistic regression model for each mean normalized feature separately\n",
        "model_preg <- glm(Outcome ~ Pregnancies, data = training_set, family = \"binomial\")\n",
        "model_glucose <- glm(Outcome ~ Glucose, data = training_set, family = \"binomial\")\n",
        "model_BP <- glm(Outcome ~ BloodPressure, data = training_set, family = \"binomial\")\n",
        "model_ST <- glm(Outcome ~ SkinThickness, data = training_set, family = \"binomial\")\n",
        "model_insulin <- glm(Outcome ~ Insulin, data = training_set, family = \"binomial\")\n",
        "model_BMI <- glm(Outcome ~ BMI, data = training_set, family = \"binomial\")\n",
        "model_DPF <- glm(Outcome ~ DiabetesPedigreeFunction, data = training_set, family = \"binomial\")\n",
        "model_Age <- glm(Outcome ~ Age, data = training_set, family = \"binomial\")\n"
      ]
    },
    {
      "cell_type": "markdown",
      "metadata": {
        "id": "tsy66qphJog7"
      },
      "source": [
        "Test the models using test_set\n"
      ]
    },
    {
      "cell_type": "code",
      "execution_count": 24,
      "metadata": {
        "id": "XZTezVhcJog7"
      },
      "outputs": [],
      "source": [
        "#subset the relevant columns from test_set and store them into test_set_normalized\n",
        "test_set_variables <- test_set[, -9]\n",
        "\n",
        "#Test the models using the columns in test_set\n",
        "pred_preg <- predict(model_preg, newdata = test_set_variables, type = \"response\")\n",
        "pred_glucose <- predict(model_glucose, newdata = test_set_variables, type = \"response\")\n",
        "pred_ST <- predict(model_ST, newdata = test_set_variables, type = \"response\")\n",
        "pred_insulin <- predict(model_insulin, newdata = test_set_variables, type = \"response\")\n",
        "pred_BMI <- predict(model_BMI, newdata = test_set_variables, type = \"response\")\n",
        "pred_DPF<- predict(model_DPF, newdata = test_set_variables, type = \"response\")\n",
        "pred_age <- predict(model_Age, newdata = test_set_variables, type = \"response\")\n"
      ]
    },
    {
      "cell_type": "code",
      "execution_count": 25,
      "metadata": {
        "id": "sG4_GTotJog8"
      },
      "outputs": [],
      "source": [
        "pr_perf_preg = pred_preg\n",
        "# Set any value of `pred_preg` greater than 0.5 to 1 in `pr_perf_preg`\n",
        "pr_perf_preg[pred_preg>0.5]=1\n",
        "# Set any value of `pred_preg` less than or equal to 0.5 to 0 in `pr_perf_preg`\n",
        "pr_perf_preg[pred_preg<=0.5]=0\n",
        "\n",
        "pr_perf_glucose = pred_glucose\n",
        "pr_perf_glucose[pred_glucose>0.5]=1\n",
        "pr_perf_glucose[pred_glucose<=0.5]=0\n",
        "\n",
        "pr_perf_ST = pred_ST\n",
        "pr_perf_ST[pred_ST>0.5]=1\n",
        "pr_perf_ST[pred_ST<=0.5]=0\n",
        "\n",
        "pr_perf_insulin = pred_insulin\n",
        "pr_perf_insulin[pred_insulin>0.5]=1\n",
        "pr_perf_insulin[pred_insulin<=0.5]=0\n",
        "\n",
        "pr_perf_BMI = pred_BMI\n",
        "pr_perf_BMI[pred_BMI>0.5]=1\n",
        "pr_perf_BMI[pred_BMI<=0.5]=0\n",
        "\n",
        "pr_perf_DPF = pred_DPF\n",
        "pr_perf_DPF[pred_DPF>0.5]=1\n",
        "pr_perf_DPF[pred_DPF<=0.5]=0\n",
        "\n",
        "pr_perf_age = pred_age\n",
        "pr_perf_age[pred_age>0.5]=1\n",
        "pr_perf_age[pred_age<=0.5]=0\n"
      ]
    },
    {
      "cell_type": "markdown",
      "metadata": {
        "id": "KwarTL0pJog8"
      },
      "source": [
        "Finding the accuracy of the models\n"
      ]
    },
    {
      "cell_type": "code",
      "execution_count": 26,
      "metadata": {
        "colab": {
          "base_uri": "https://localhost:8080/",
          "height": 493
        },
        "id": "88dlr3FsJog9",
        "outputId": "03d6f23b-83cc-492b-8adc-b417e4a49000"
      },
      "outputs": [
        {
          "output_type": "display_data",
          "data": {
            "text/plain": [
              "      predicted\n",
              "actual  0  1\n",
              "     0 46 27\n",
              "     1 29 37"
            ]
          },
          "metadata": {}
        },
        {
          "output_type": "display_data",
          "data": {
            "text/plain": [
              "      predicted\n",
              "actual  0  1\n",
              "     0 52 21\n",
              "     1 18 48"
            ]
          },
          "metadata": {}
        },
        {
          "output_type": "display_data",
          "data": {
            "text/plain": [
              "      predicted\n",
              "actual  0  1\n",
              "     0 46 27\n",
              "     1 17 49"
            ]
          },
          "metadata": {}
        },
        {
          "output_type": "display_data",
          "data": {
            "text/plain": [
              "      predicted\n",
              "actual  0  1\n",
              "     0 52 21\n",
              "     1 17 49"
            ]
          },
          "metadata": {}
        },
        {
          "output_type": "display_data",
          "data": {
            "text/plain": [
              "      predicted\n",
              "actual  0  1\n",
              "     0 48 25\n",
              "     1 20 46"
            ]
          },
          "metadata": {}
        },
        {
          "output_type": "display_data",
          "data": {
            "text/plain": [
              "      predicted\n",
              "actual  0  1\n",
              "     0 50 23\n",
              "     1 30 36"
            ]
          },
          "metadata": {}
        },
        {
          "output_type": "display_data",
          "data": {
            "text/plain": [
              "      predicted\n",
              "actual  0  1\n",
              "     0 50 23\n",
              "     1 30 36"
            ]
          },
          "metadata": {}
        }
      ],
      "source": [
        "# Use 'table' function to create the confusion matrix and pass in the actual labels and the predicted labels for the 'Pregnancy' performance measure from the 'test_set' data.\n",
        "confmat_preg<-table(test_set[,\"Outcome\"], pr_perf_preg, dnn=c(\"actual\", \"predicted\"))\n",
        "# Print the number of true positives, true negatives, false positives, and false negatives for the 'Pregnancy' performance measure.\n",
        "confmat_preg\n",
        "\n",
        "confmat_glucose<-table(test_set[,\"Outcome\"], pr_perf_glucose, dnn=c(\"actual\", \"predicted\"))\n",
        "confmat_glucose\n",
        "\n",
        "confmat_ST<-table(test_set[,\"Outcome\"], pr_perf_ST, dnn=c(\"actual\", \"predicted\"))\n",
        "confmat_ST\n",
        "\n",
        "confmat_insulin<-table(test_set[,\"Outcome\"], pr_perf_insulin, dnn=c(\"actual\", \"predicted\"))\n",
        "confmat_insulin\n",
        "\n",
        "confmat_BMI<-table(test_set[,\"Outcome\"], pr_perf_BMI, dnn=c(\"actual\", \"predicted\"))\n",
        "confmat_BMI\n",
        "\n",
        "confmat_DPF<-table(test_set[,\"Outcome\"], pr_perf_DPF, dnn=c(\"actual\", \"predicted\"))\n",
        "confmat_DPF\n",
        "\n",
        "confmat_age<-table(test_set[,\"Outcome\"], pr_perf_age, dnn=c(\"actual\", \"predicted\"))\n",
        "confmat_age\n"
      ]
    },
    {
      "cell_type": "markdown",
      "metadata": {
        "id": "aPwvw2qOJog9"
      },
      "source": [
        "Use AUC to determine which model performed best\n",
        "\n"
      ]
    },
    {
      "cell_type": "code",
      "execution_count": 27,
      "metadata": {
        "colab": {
          "base_uri": "https://localhost:8080/"
        },
        "id": "QH9fXpmpJog9",
        "outputId": "c5ebe9ed-fcaa-4b90-b840-3c0d2b1b70ab"
      },
      "outputs": [
        {
          "output_type": "stream",
          "name": "stderr",
          "text": [
            "Setting levels: control = 0, case = 1\n",
            "\n",
            "Setting direction: controls < cases\n",
            "\n",
            "Setting levels: control = 0, case = 1\n",
            "\n",
            "Setting direction: controls < cases\n",
            "\n",
            "Setting levels: control = 0, case = 1\n",
            "\n",
            "Setting direction: controls < cases\n",
            "\n",
            "Setting levels: control = 0, case = 1\n",
            "\n",
            "Setting direction: controls < cases\n",
            "\n",
            "Setting levels: control = 0, case = 1\n",
            "\n",
            "Setting direction: controls < cases\n",
            "\n",
            "Setting levels: control = 0, case = 1\n",
            "\n",
            "Setting direction: controls < cases\n",
            "\n",
            "Setting levels: control = 0, case = 1\n",
            "\n",
            "Setting direction: controls < cases\n",
            "\n"
          ]
        },
        {
          "output_type": "stream",
          "name": "stdout",
          "text": [
            "AUC of preg model:  0.5953715 \n",
            "AUC of glucose model:  0.7198007 \n",
            "AUC of ST model:  0.6862806 \n",
            "AUC of insulin model:  0.7273765 \n",
            "AUC of BMI model:  0.677252 \n",
            "AUC of DPF model:  0.615193 \n",
            "AUC of age model:  0.615193 \n",
            "Ranking of the independent models based on AUC (from highest to lowest): insulin, glucose, ST, BMI, DPF, age, preg"
          ]
        }
      ],
      "source": [
        "# use the AUC to determine which of the models performed the best\n",
        "pregauc <- roc(test_set$Outcome, pr_perf_preg)$auc\n",
        "glucoseauc <- roc(test_set$Outcome, pr_perf_glucose)$auc\n",
        "STauc <- roc(test_set$Outcome, pr_perf_ST)$auc\n",
        "insulinauc <- roc(test_set$Outcome, pr_perf_insulin)$auc\n",
        "BMIauc <- roc(test_set$Outcome, pr_perf_BMI)$auc\n",
        "DPFauc <- roc(test_set$Outcome, pr_perf_DPF)$auc\n",
        "ageauc <- roc(test_set$Outcome, pr_perf_age)$auc\n",
        "\n",
        "cat(\"AUC of preg model: \", pregauc, \"\\n\")\n",
        "cat(\"AUC of glucose model: \", glucoseauc, \"\\n\")\n",
        "cat(\"AUC of ST model: \", STauc, \"\\n\")\n",
        "cat(\"AUC of insulin model: \", insulinauc, \"\\n\")\n",
        "cat(\"AUC of BMI model: \", BMIauc, \"\\n\")\n",
        "cat(\"AUC of DPF model: \", DPFauc, \"\\n\")\n",
        "cat(\"AUC of age model: \", ageauc, \"\\n\")\n",
        "\n",
        "all_model <- c(preg = pregauc, glucose = glucoseauc, ST = STauc, insulin = insulinauc, BMI = BMIauc, DPF = DPFauc, age = ageauc)\n",
        "\n",
        "# Rank the independent models based on AUC\n",
        "all_model <- sort(all_model, decreasing = TRUE)\n",
        "\n",
        "#provide the ranking\n",
        "cat(\"Ranking of the independent models based on AUC (from highest to lowest): \")\n",
        "cat(names(all_model), sep=', ')\n"
      ]
    },
    {
      "cell_type": "markdown",
      "metadata": {
        "id": "QbZx2lx7Jog-"
      },
      "source": [
        "2.2 Logistic regression using all variables in one model\n",
        "\n",
        "Train on all the features in one model and test the model using the entire test_set\n"
      ]
    },
    {
      "cell_type": "code",
      "execution_count": 28,
      "metadata": {
        "colab": {
          "base_uri": "https://localhost:8080/",
          "height": 306
        },
        "id": "QrmgvwGLJog-",
        "outputId": "ab92f18d-8737-4d1e-ac7c-885da737a62e"
      },
      "outputs": [
        {
          "output_type": "display_data",
          "data": {
            "text/html": [
              "<table class=\"dataframe\">\n",
              "<caption>A data.frame: 4 × 3</caption>\n",
              "<thead>\n",
              "\t<tr><th scope=col>actual</th><th scope=col>predicted</th><th scope=col>Freq</th></tr>\n",
              "\t<tr><th scope=col>&lt;dbl&gt;</th><th scope=col>&lt;fct&gt;</th><th scope=col>&lt;int&gt;</th></tr>\n",
              "</thead>\n",
              "<tbody>\n",
              "\t<tr><td>1</td><td>0</td><td>58</td></tr>\n",
              "\t<tr><td>1</td><td>0</td><td>14</td></tr>\n",
              "\t<tr><td>1</td><td>1</td><td>15</td></tr>\n",
              "\t<tr><td>1</td><td>1</td><td>52</td></tr>\n",
              "</tbody>\n",
              "</table>\n"
            ],
            "text/markdown": "\nA data.frame: 4 × 3\n\n| actual &lt;dbl&gt; | predicted &lt;fct&gt; | Freq &lt;int&gt; |\n|---|---|---|\n| 1 | 0 | 58 |\n| 1 | 0 | 14 |\n| 1 | 1 | 15 |\n| 1 | 1 | 52 |\n\n",
            "text/latex": "A data.frame: 4 × 3\n\\begin{tabular}{lll}\n actual & predicted & Freq\\\\\n <dbl> & <fct> & <int>\\\\\n\\hline\n\t 1 & 0 & 58\\\\\n\t 1 & 0 & 14\\\\\n\t 1 & 1 & 15\\\\\n\t 1 & 1 & 52\\\\\n\\end{tabular}\n",
            "text/plain": [
              "  actual predicted Freq\n",
              "1 1      0         58  \n",
              "2 1      0         14  \n",
              "3 1      1         15  \n",
              "4 1      1         52  "
            ]
          },
          "metadata": {}
        },
        {
          "output_type": "stream",
          "name": "stderr",
          "text": [
            "Setting levels: control = 0, case = 1\n",
            "\n",
            "Setting direction: controls < cases\n",
            "\n"
          ]
        },
        {
          "output_type": "stream",
          "name": "stdout",
          "text": [
            "AUC of all variables: 0.7911997\n"
          ]
        }
      ],
      "source": [
        "# creating a logistic regression model using all the features\n",
        "all_models_LR <- glm(Outcome ~ Pregnancies + Glucose + BloodPressure + SkinThickness + Insulin + BMI + DiabetesPedigreeFunction + Age, data = training_set, family = \"binomial\")\n",
        "\n",
        "# test the model using the entire test_set\n",
        "pred_all <- predict(all_models_LR, newdata = test_set, type = \"response\")\n",
        "\n",
        "pr.perf_all = pred_all\n",
        "pr.perf_all[pred_all>0.5]=1\n",
        "pr.perf_all[pred_all<=0.5]=0\n",
        "\n",
        "confmat_all<-table(test_set[,\"Outcome\"],\n",
        "               pr.perf_all,\n",
        "               dnn=c(\"actual\", \"predicted\"))\n",
        "confmat_all <- data.frame(confmat_all)\n",
        "confmat_all$actual <- ifelse(confmat_all$actual == \"B\", 0, 1)\n",
        "confmat_all\n",
        "\n",
        "# Calculating the AUC of the model using all variables\n",
        "allvarauc_lr <- roc(test_set$Outcome, pr.perf_all)$auc\n",
        "\n",
        "cat(\"AUC of all variables:\", allvarauc_lr)\n",
        "cat(\"\\n\")\n",
        "\n",
        "#The AUC of the model using all variables is better than the AUC of the top ranked independent model because the AUC of the former is higher than that of the top ranked independent model.\n"
      ]
    },
    {
      "cell_type": "markdown",
      "metadata": {
        "id": "uotU5OGXJog_"
      },
      "source": [
        "Calculating the coefficient\n"
      ]
    },
    {
      "cell_type": "code",
      "execution_count": 29,
      "metadata": {
        "colab": {
          "base_uri": "https://localhost:8080/",
          "height": 85
        },
        "id": "PtyGFHvTJog_",
        "outputId": "578db24f-3cec-4003-b27c-0fb9ece99e50"
      },
      "outputs": [
        {
          "output_type": "display_data",
          "data": {
            "text/html": [
              "<style>\n",
              ".dl-inline {width: auto; margin:0; padding: 0}\n",
              ".dl-inline>dt, .dl-inline>dd {float: none; width: auto; display: inline-block}\n",
              ".dl-inline>dt::after {content: \":\\0020\"; padding-right: .5ex}\n",
              ".dl-inline>dt:not(:first-of-type) {padding-left: .5ex}\n",
              "</style><dl class=dl-inline><dt>Pregnancies</dt><dd>0.576052906738016</dd><dt>Glucose</dt><dd>1.00278269318836</dd><dt>BloodPressure</dt><dd>-0.0614599899855342</dd><dt>SkinThickness</dt><dd>-0.0734025209053305</dd><dt>Insulin</dt><dd>0.125390184502353</dd><dt>BMI</dt><dd>0.656418272598285</dd><dt>DiabetesPedigreeFunction</dt><dd>0.367382442680715</dd><dt>Age</dt><dd>-0.0325764600200079</dd></dl>\n"
            ],
            "text/markdown": "Pregnancies\n:   0.576052906738016Glucose\n:   1.00278269318836BloodPressure\n:   -0.0614599899855342SkinThickness\n:   -0.0734025209053305Insulin\n:   0.125390184502353BMI\n:   0.656418272598285DiabetesPedigreeFunction\n:   0.367382442680715Age\n:   -0.0325764600200079\n\n",
            "text/latex": "\\begin{description*}\n\\item[Pregnancies] 0.576052906738016\n\\item[Glucose] 1.00278269318836\n\\item[BloodPressure] -0.0614599899855342\n\\item[SkinThickness] -0.0734025209053305\n\\item[Insulin] 0.125390184502353\n\\item[BMI] 0.656418272598285\n\\item[DiabetesPedigreeFunction] 0.367382442680715\n\\item[Age] -0.0325764600200079\n\\end{description*}\n",
            "text/plain": [
              "             Pregnancies                  Glucose            BloodPressure \n",
              "              0.57605291               1.00278269              -0.06145999 \n",
              "           SkinThickness                  Insulin                      BMI \n",
              "             -0.07340252               0.12539018               0.65641827 \n",
              "DiabetesPedigreeFunction                      Age \n",
              "              0.36738244              -0.03257646 "
            ]
          },
          "metadata": {}
        }
      ],
      "source": [
        "#Provide the coefficients\n",
        "coefs <- all_models_LR$coefficients\n",
        "coefs <- subset(coefs, names(coefs) != \"(Intercept)\", decreasing = TRUE)\n",
        "coefs\n"
      ]
    },
    {
      "cell_type": "markdown",
      "metadata": {
        "id": "oQgX71bBJog_"
      },
      "source": [
        "###5.3. Decision Trees\n",
        "\n",
        "3.1. Plot Decision Tree using the Training Data\n"
      ]
    },
    {
      "cell_type": "code",
      "execution_count": 30,
      "metadata": {
        "colab": {
          "base_uri": "https://localhost:8080/",
          "height": 913
        },
        "id": "O_7ZrgvFJog_",
        "outputId": "76e56861-1c98-40c3-c68d-e12f026ced11"
      },
      "outputs": [
        {
          "output_type": "display_data",
          "data": {
            "text/plain": [
              "\n",
              "\t Conditional inference tree with 6 terminal nodes\n",
              "\n",
              "Response:  Outcome \n",
              "Inputs:  Pregnancies, Glucose, BloodPressure, SkinThickness, Insulin, BMI, DiabetesPedigreeFunction, Age \n",
              "Number of observations:  323 \n",
              "\n",
              "1) Glucose <= 0.1570193; criterion = 1, statistic = 72.713\n",
              "  2) Glucose <= -0.7257735; criterion = 1, statistic = 17.386\n",
              "    3) Insulin <= -0.6967191; criterion = 0.983, statistic = 9.428\n",
              "      4)*  weights = 48 \n",
              "    3) Insulin > -0.6967191\n",
              "      5)*  weights = 21 \n",
              "  2) Glucose > -0.7257735\n",
              "    6) Pregnancies <= -0.2415191; criterion = 0.983, statistic = 9.398\n",
              "      7)*  weights = 61 \n",
              "    6) Pregnancies > -0.2415191\n",
              "      8)*  weights = 57 \n",
              "1) Glucose > 0.1570193\n",
              "  9) BMI <= -0.3199953; criterion = 0.966, statistic = 8.139\n",
              "    10)*  weights = 30 \n",
              "  9) BMI > -0.3199953\n",
              "    11)*  weights = 106 "
            ]
          },
          "metadata": {}
        },
        {
          "output_type": "stream",
          "name": "stdout",
          "text": [
            "\n",
            "Fold:  2 5 1 3 10 8 4 7 9 6\n",
            "Internal estimate of accuracy = 0.755\n",
            "Cross-validation estimate of accuracy = 0.74\n"
          ]
        },
        {
          "output_type": "display_data",
          "data": {
            "text/plain": [
              "plot without title"
            ],
            "image/png": "[encoded data removed]"
          },
          "metadata": {
            "image/png": {
              "width": 420,
              "height": 420
            }
          }
        }
      ],
      "source": [
        "# Using the training_set, create a decision tree\n",
        "diabetes.fit<-ctree(formula= Outcome ~ Pregnancies + Glucose + BloodPressure + SkinThickness + Insulin + BMI + DiabetesPedigreeFunction + Age, data=training_set)\n",
        "\n",
        "diabetes.fit\n",
        "\n",
        "plot(diabetes.fit)\n",
        "\n",
        "# provide the accuracy of the model on the training set\n",
        "lr.fold<-glm(formula = Outcome ~ Pregnancies + Glucose + BloodPressure + SkinThickness + Insulin + BMI + DiabetesPedigreeFunction + Age,\n",
        "             family=\"binomial\",\n",
        "             data=training_set)\n",
        "CVbinary(lr.fold)\n"
      ]
    },
    {
      "cell_type": "markdown",
      "metadata": {
        "id": "jtNk8tqsJohA"
      },
      "source": [
        "3.2. Testing the Model\n"
      ]
    },
    {
      "cell_type": "code",
      "execution_count": 35,
      "metadata": {
        "colab": {
          "base_uri": "https://localhost:8080/"
        },
        "id": "kJVWb_dNJohA",
        "outputId": "e7415249-eaa7-47fb-8be9-c7e929191ddf"
      },
      "outputs": [
        {
          "output_type": "stream",
          "name": "stderr",
          "text": [
            "Setting levels: control = 1, case = 2\n",
            "\n",
            "Setting direction: controls < cases\n",
            "\n"
          ]
        },
        {
          "output_type": "stream",
          "name": "stdout",
          "text": [
            "AUC of all variables: 0.7261806"
          ]
        }
      ],
      "source": [
        "# Test the model using the test_set\n",
        "pred_ctree<- predict(diabetes.fit, newdata = test_set, type = \"response\")\n",
        "pred_ctree.df = t(as.data.frame(as.numeric(pred_ctree)))\n",
        "vect <- c(pred_ctree.df)\n",
        "\n",
        "outcome_test <- test_set$Outcome\n",
        "roc_result = roc(vect, as.numeric(outcome_test))\n",
        "\n",
        "# calculate the AUC\n",
        "auc_best_ctree<-auc(roc_result)\n",
        "\n",
        "# provide the AUC\n",
        "cat(\"AUC of all variables:\", auc_best_ctree)\n"
      ]
    },
    {
      "cell_type": "markdown",
      "metadata": {
        "id": "4VH8xf2dJohA"
      },
      "source": [
        "3.3. Plotting the Decision Tree using the Test Data\n"
      ]
    },
    {
      "cell_type": "code",
      "execution_count": 36,
      "metadata": {
        "colab": {
          "base_uri": "https://localhost:8080/",
          "height": 760
        },
        "id": "MaUo1WdDJohB",
        "outputId": "45f504a1-36c1-4a25-975c-cca9280d4222"
      },
      "outputs": [
        {
          "output_type": "display_data",
          "data": {
            "text/plain": [
              "\n",
              "\t Conditional inference tree with 4 terminal nodes\n",
              "\n",
              "Response:  Outcome \n",
              "Inputs:  Pregnancies, Glucose, BloodPressure, SkinThickness, Insulin, BMI, DiabetesPedigreeFunction, Age \n",
              "Number of observations:  139 \n",
              "\n",
              "1) Glucose <= 0.5166756; criterion = 1, statistic = 40.337\n",
              "  2) SkinThickness <= -0.2104844; criterion = 1, statistic = 16.351\n",
              "    3) DiabetesPedigreeFunction <= 0.1425627; criterion = 0.954, statistic = 7.597\n",
              "      4)*  weights = 34 \n",
              "    3) DiabetesPedigreeFunction > 0.1425627\n",
              "      5)*  weights = 11 \n",
              "  2) SkinThickness > -0.2104844\n",
              "    6)*  weights = 47 \n",
              "1) Glucose > 0.5166756\n",
              "  7)*  weights = 47 "
            ]
          },
          "metadata": {}
        },
        {
          "output_type": "display_data",
          "data": {
            "text/plain": [
              "plot without title"
            ],
            "image/png": "[encoded data removed]"
          },
          "metadata": {
            "image/png": {
              "width": 420,
              "height": 420
            }
          }
        }
      ],
      "source": [
        "diabetes_test.fit<-ctree(formula=Outcome ~ Pregnancies + Glucose + BloodPressure + SkinThickness + Insulin + BMI + DiabetesPedigreeFunction + Age, data=test_set)\n",
        "diabetes_test.fit\n",
        "plot(diabetes_test.fit)\n"
      ]
    },
    {
      "cell_type": "markdown",
      "metadata": {
        "id": "lDl1_ZRSJohB"
      },
      "source": [
        "###5.4: Random Forest\n",
        "\n"
      ]
    },
    {
      "cell_type": "code",
      "execution_count": 37,
      "metadata": {
        "colab": {
          "base_uri": "https://localhost:8080/",
          "height": 1000
        },
        "id": "eTN_JdjfJohB",
        "outputId": "747fc0ac-ed6d-4718-b027-b48740bf2abf"
      },
      "outputs": [
        {
          "output_type": "stream",
          "name": "stderr",
          "text": [
            "Setting levels: control = 0, case = 1\n",
            "\n",
            "Setting direction: controls < cases\n",
            "\n",
            "Setting levels: control = 0, case = 1\n",
            "\n",
            "Setting direction: controls < cases\n",
            "\n",
            "Setting levels: control = 0, case = 1\n",
            "\n",
            "Setting direction: controls < cases\n",
            "\n",
            "Setting levels: control = 0, case = 1\n",
            "\n",
            "Setting direction: controls < cases\n",
            "\n",
            "Setting levels: control = 0, case = 1\n",
            "\n",
            "Setting direction: controls < cases\n",
            "\n",
            "Setting levels: control = 0, case = 1\n",
            "\n",
            "Setting direction: controls < cases\n",
            "\n",
            "Setting levels: control = 0, case = 1\n",
            "\n",
            "Setting direction: controls < cases\n",
            "\n",
            "Warning message in randomForest.default(m, y, ...):\n",
            "“invalid mtry: reset to within valid range”\n",
            "Setting levels: control = 0, case = 1\n",
            "\n",
            "Setting direction: controls < cases\n",
            "\n",
            "Warning message in randomForest.default(m, y, ...):\n",
            "“invalid mtry: reset to within valid range”\n",
            "Setting levels: control = 0, case = 1\n",
            "\n",
            "Setting direction: controls < cases\n",
            "\n",
            "Setting levels: control = 0, case = 1\n",
            "\n",
            "Setting direction: controls < cases\n",
            "\n"
          ]
        },
        {
          "output_type": "stream",
          "name": "stdout",
          "text": [
            "Best mtry value: 2 \n",
            "AUC of the best model: 0.7645289 \n"
          ]
        },
        {
          "output_type": "stream",
          "name": "stderr",
          "text": [
            "Setting levels: control = 0, case = 1\n",
            "\n",
            "Setting direction: controls < cases\n",
            "\n"
          ]
        },
        {
          "output_type": "display_data",
          "data": {
            "text/plain": [
              "plot without title"
            ],
            "image/png": "[encoded data removed]"
          },
          "metadata": {
            "image/png": {
              "width": 420,
              "height": 420
            }
          }
        },
        {
          "output_type": "display_data",
          "data": {
            "text/plain": [
              "Plot with title “ROC Curve ~ Best Model \n",
              " with mtry = 2”"
            ],
            "image/png": "[encoded data removed]"
          },
          "metadata": {
            "image/png": {
              "width": 420,
              "height": 420
            }
          }
        }
      ],
      "source": [
        "# Create a vector of mtry values to try for hyperparameter tuning\n",
        "mtry_values <- 2:10\n",
        "\n",
        "# Initialize an empty list to store the AUC values for each model\n",
        "auc_list_rf <- list()\n",
        "\n",
        "# Fit a random forest model for each mtry value and compute its AUC value\n",
        "for (mtry in mtry_values) {\n",
        "  # Fit the model\n",
        "  model <- randomForest(Outcome ~ Pregnancies + Glucose + BloodPressure + SkinThickness + Insulin + BMI + DiabetesPedigreeFunction + Age,\n",
        "                        data = training_set, importance = TRUE, mtry = mtry)\n",
        "  # Compute the AUC value on the training set\n",
        "  pred <- predict(model, newdata = training_set, type = \"response\")\n",
        "  auc_list_rf[[as.character(mtry)]] <- roc(training_set$Outcome, as.numeric(pred))$auc\n",
        "}\n",
        "\n",
        "# Identify the mtry value with the highest AUC value\n",
        "best_mtry <- names(auc_list_rf)[which.max(unlist(auc_list_rf))]\n",
        "\n",
        "# Fit a random forest model using the best mtry value\n",
        "model_best_RF <- randomForest(Outcome ~ Pregnancies + Glucose + BloodPressure + SkinThickness + Insulin + BMI + DiabetesPedigreeFunction + Age,\n",
        "                            data = training_set, importance = TRUE, mtry = as.numeric(best_mtry))\n",
        "\n",
        "# Compute the AUC value on the testing set\n",
        "pred_best <- predict(model_best_RF, newdata = test_set, type = \"response\")\n",
        "auc_best_rf <- roc(test_set$Outcome, as.numeric(pred_best))$auc\n",
        "\n",
        "cat(\"Best mtry value:\", best_mtry, \"\\n\")\n",
        "cat(\"AUC of the best model:\", auc_best_rf, \"\\n\")\n",
        "\n",
        "# Plot the variable importance\n",
        "varImpPlot(model_best_RF, main = paste0(\"mtry = \", best_mtry))\n",
        "\n",
        "\n",
        "roc_curve <- roc(test_set$Outcome, as.numeric(pred_best))\n",
        "plot(roc_curve, print.thres = \"best\", print.auc = TRUE, main = paste(\"ROC Curve ~ Best Model \\n with mtry =\", best_mtry))\n"
      ]
    },
    {
      "cell_type": "markdown",
      "metadata": {
        "id": "FjtOOX3XJohB"
      },
      "source": [
        "###5.5: KNN\n",
        "\n"
      ]
    },
    {
      "cell_type": "code",
      "execution_count": 38,
      "metadata": {
        "colab": {
          "base_uri": "https://localhost:8080/"
        },
        "id": "t36MXwsHJohB",
        "outputId": "e3bf5bf8-b56f-41bd-bcc7-639584516a71"
      },
      "outputs": [
        {
          "output_type": "stream",
          "name": "stderr",
          "text": [
            "Warning message in roc.default(as.numeric(attr(knn_model, \"prob\")), as.numeric(test_set$Outcome)):\n",
            "“'response' has more than two levels. Consider setting 'levels' explicitly or using 'multiclass.roc' instead”\n",
            "Setting levels: control = 0, case = 0.2\n",
            "\n",
            "Setting direction: controls < cases\n",
            "\n",
            "Warning message in roc.default(as.numeric(attr(knn_model, \"prob\")), as.numeric(test_set$Outcome)):\n",
            "“'response' has more than two levels. Consider setting 'levels' explicitly or using 'multiclass.roc' instead”\n",
            "Setting levels: control = 0, case = 0.1\n",
            "\n",
            "Setting direction: controls < cases\n",
            "\n",
            "Warning message in roc.default(as.numeric(attr(knn_model, \"prob\")), as.numeric(test_set$Outcome)):\n",
            "“'response' has more than two levels. Consider setting 'levels' explicitly or using 'multiclass.roc' instead”\n",
            "Setting levels: control = 0, case = 0.066666666666667\n",
            "\n",
            "Setting direction: controls < cases\n",
            "\n",
            "Warning message in roc.default(as.numeric(attr(knn_model, \"prob\")), as.numeric(test_set$Outcome)):\n",
            "“'response' has more than two levels. Consider setting 'levels' explicitly or using 'multiclass.roc' instead”\n",
            "Setting levels: control = 0.05, case = 0.1\n",
            "\n",
            "Setting direction: controls < cases\n",
            "\n",
            "Warning message in roc.default(as.numeric(attr(knn_model, \"prob\")), as.numeric(test_set$Outcome)):\n",
            "“'response' has more than two levels. Consider setting 'levels' explicitly or using 'multiclass.roc' instead”\n",
            "Setting levels: control = 0.08, case = 0.12\n",
            "\n",
            "Setting direction: controls < cases\n",
            "\n",
            "Warning message in roc.default(as.numeric(attr(knn_model, \"prob\")), as.numeric(test_set$Outcome)):\n",
            "“'response' has more than two levels. Consider setting 'levels' explicitly or using 'multiclass.roc' instead”\n",
            "Setting levels: control = 0.1, case = 0.133333333333333\n",
            "\n",
            "Setting direction: controls < cases\n",
            "\n",
            "Warning message in roc.default(as.numeric(attr(knn_model, \"prob\")), as.numeric(test_set$Outcome)):\n",
            "“'response' has more than two levels. Consider setting 'levels' explicitly or using 'multiclass.roc' instead”\n",
            "Setting levels: control = 0.085714285714286, case = 0.114285714285714\n",
            "\n",
            "Setting direction: controls < cases\n",
            "\n",
            "Warning message in roc.default(as.numeric(attr(knn_model, \"prob\")), as.numeric(test_set$Outcome)):\n",
            "“'response' has more than two levels. Consider setting 'levels' explicitly or using 'multiclass.roc' instead”\n",
            "Setting levels: control = 0.1, case = 0.125\n",
            "\n",
            "Setting direction: controls < cases\n",
            "\n",
            "Warning message in roc.default(as.numeric(attr(knn_model, \"prob\")), as.numeric(test_set$Outcome)):\n",
            "“'response' has more than two levels. Consider setting 'levels' explicitly or using 'multiclass.roc' instead”\n",
            "Setting levels: control = 0.088888888888889, case = 0.133333333333333\n",
            "\n",
            "Setting direction: controls < cases\n",
            "\n",
            "Warning message in roc.default(as.numeric(attr(knn_model, \"prob\")), as.numeric(test_set$Outcome)):\n",
            "“'response' has more than two levels. Consider setting 'levels' explicitly or using 'multiclass.roc' instead”\n",
            "Setting levels: control = 0.12, case = 0.14\n",
            "\n",
            "Setting direction: controls > cases\n",
            "\n",
            "Warning message in roc.default(as.numeric(attr(model_best_knn, \"prob\")), as.numeric(test_set$Outcome)):\n",
            "“'response' has more than two levels. Consider setting 'levels' explicitly or using 'multiclass.roc' instead”\n",
            "Setting levels: control = 0.12, case = 0.14\n",
            "\n",
            "Setting direction: controls > cases\n",
            "\n"
          ]
        },
        {
          "output_type": "stream",
          "name": "stdout",
          "text": [
            "Best k value: 50 \n",
            "AUC of the best model: 1 \n"
          ]
        }
      ],
      "source": [
        "test_set_variables <- test_set[, -9]\n",
        "\n",
        "train_set_variables <- training_set[, -9]\n",
        "\n",
        "# Create a vector of k values to try for hyperparameter tuning\n",
        "max_k <- 50\n",
        "\n",
        "k_values <- seq(from = 5, to = max_k, by = 5)\n",
        "\n",
        "# Initialize an empty list to store the AUC values for each model\n",
        "auc_list_knn <- list()\n",
        "\n",
        "# Fit a KNN model for each k value and compute its AUC value\n",
        "for (k in k_values) {\n",
        "  # Fit the model\n",
        "  knn_model <- knn(train = train_set_variables,\n",
        "                   test = test_set_variables,\n",
        "                   cl = training_set$Outcome,\n",
        "                   k = k, prob = TRUE)\n",
        "\n",
        "  test_1 = which(knn_model == 1)\n",
        "  attr(knn_model, \"prob\")[test_1] = 1 - attr(knn_model, \"prob\")[test_1]\n",
        "\n",
        "  # Compute the AUC value\n",
        "  data.knn.prob.roc = roc(as.numeric(attr(knn_model,\"prob\")),\n",
        "                        as.numeric(test_set$Outcome))\n",
        "  auc_value = auc(data.knn.prob.roc)\n",
        "  #data.knn.prob.roc <- roc(test_set$Outcome, prob[, \"1\"])\n",
        "  #auc_value <- auc(data.knn.prob.roc)\n",
        "  auc_list_knn[[as.character(k)]] <- auc_value\n",
        "}\n",
        "\n",
        "# Identify the k value with the highest AUC value\n",
        "best_k <- names(auc_list_knn)[which.max(unlist(auc_list_knn))]\n",
        "\n",
        "# Fit a KNN model using the best k value\n",
        "\n",
        "model_best_knn <- knn(train = train_set_variables,\n",
        "                      test = test_set_variables,\n",
        "                      cl = training_set$Outcome,\n",
        "                      k = as.numeric(best_k), prob = TRUE)\n",
        "\n",
        "test_1 = which(model_best_knn == 1)\n",
        "attr(model_best_knn, \"prob\")[test_1] = 1 - attr(model_best_knn, \"prob\")[test_1]\n",
        "\n",
        "data.knn.prob.roc.test = roc(as.numeric(attr(model_best_knn,\"prob\")),\n",
        "                        as.numeric(test_set$Outcome))\n",
        "auc_best_knn = auc(data.knn.prob.roc.test)\n",
        "\n",
        "cat(\"Best k value:\", best_k, \"\\n\")\n",
        "cat(\"AUC of the best model:\", auc_best_knn, \"\\n\")\n"
      ]
    },
    {
      "cell_type": "markdown",
      "metadata": {
        "id": "09FwzXcoJohB"
      },
      "source": [
        "###5.6: SVM Model\n",
        "\n"
      ]
    },
    {
      "cell_type": "code",
      "execution_count": 39,
      "metadata": {
        "colab": {
          "base_uri": "https://localhost:8080/"
        },
        "id": "L9yxkvWXJohC",
        "outputId": "640077ba-69a4-4a97-a82c-37393478d132"
      },
      "outputs": [
        {
          "output_type": "stream",
          "name": "stderr",
          "text": [
            "Warning message in roc.default(as.numeric(data.svm.pred.prob.mat[, 2]), as.numeric(test_set$Outcome)):\n",
            "“'response' has more than two levels. Consider setting 'levels' explicitly or using 'multiclass.roc' instead”\n",
            "Setting levels: control = 0.056799180789155, case = 0.0898100849084722\n",
            "\n",
            "Setting direction: controls < cases\n",
            "\n",
            "Warning message in roc.default(as.numeric(data.svm.pred.prob.mat[, 2]), as.numeric(test_set$Outcome)):\n",
            "“'response' has more than two levels. Consider setting 'levels' explicitly or using 'multiclass.roc' instead”\n",
            "Setting levels: control = 0.057491338457258, case = 0.0901512437937808\n",
            "\n",
            "Setting direction: controls < cases\n",
            "\n",
            "Warning message in roc.default(as.numeric(data.svm.pred.prob.mat[, 2]), as.numeric(test_set$Outcome)):\n",
            "“'response' has more than two levels. Consider setting 'levels' explicitly or using 'multiclass.roc' instead”\n",
            "Setting levels: control = 0.0621076694505999, case = 0.0957360224979917\n",
            "\n",
            "Setting direction: controls < cases\n",
            "\n",
            "Warning message in roc.default(as.numeric(data.svm.pred.prob.mat[, 2]), as.numeric(test_set$Outcome)):\n",
            "“'response' has more than two levels. Consider setting 'levels' explicitly or using 'multiclass.roc' instead”\n",
            "Setting levels: control = 0.0579560091940213, case = 0.0913714632701648\n",
            "\n",
            "Setting direction: controls < cases\n",
            "\n",
            "Warning message in roc.default(as.numeric(data.svm.pred.prob.mat[, 2]), as.numeric(test_set$Outcome)):\n",
            "“'response' has more than two levels. Consider setting 'levels' explicitly or using 'multiclass.roc' instead”\n",
            "Setting levels: control = 0.0641895429078412, case = 0.0992209737198423\n",
            "\n",
            "Setting direction: controls < cases\n",
            "\n",
            "Warning message in roc.default(as.numeric(data.svm.pred.prob.mat[, 2]), as.numeric(test_set$Outcome)):\n",
            "“'response' has more than two levels. Consider setting 'levels' explicitly or using 'multiclass.roc' instead”\n",
            "Setting levels: control = 0.065608103074405, case = 0.10106835253177\n",
            "\n",
            "Setting direction: controls < cases\n",
            "\n",
            "Warning message in roc.default(as.numeric(data.svm.pred.prob.mat[, 2]), as.numeric(test_set$Outcome)):\n",
            "“'response' has more than two levels. Consider setting 'levels' explicitly or using 'multiclass.roc' instead”\n",
            "Setting levels: control = 0.0644807465643009, case = 0.0990350938884941\n",
            "\n",
            "Setting direction: controls < cases\n",
            "\n",
            "Warning message in roc.default(as.numeric(data.svm.pred.prob.mat[, 2]), as.numeric(test_set$Outcome)):\n",
            "“'response' has more than two levels. Consider setting 'levels' explicitly or using 'multiclass.roc' instead”\n",
            "Setting levels: control = 0.0761310898656609, case = 0.112786043852291\n",
            "\n",
            "Setting direction: controls < cases\n",
            "\n",
            "Warning message in roc.default(as.numeric(data.svm.pred.prob.mat[, 2]), as.numeric(test_set$Outcome)):\n",
            "“'response' has more than two levels. Consider setting 'levels' explicitly or using 'multiclass.roc' instead”\n",
            "Setting levels: control = 0.0678865414121238, case = 0.103813661730611\n",
            "\n",
            "Setting direction: controls < cases\n",
            "\n",
            "Warning message in roc.default(as.numeric(data.svm.pred.prob.mat[, 2]), as.numeric(test_set$Outcome)):\n",
            "“'response' has more than two levels. Consider setting 'levels' explicitly or using 'multiclass.roc' instead”\n",
            "Setting levels: control = 0.0769681177534389, case = 0.114737786581727\n",
            "\n",
            "Setting direction: controls < cases\n",
            "\n",
            "Warning message in roc.default(as.numeric(data.svm.pred.prob.mat[, 2]), as.numeric(test_set$Outcome)):\n",
            "“'response' has more than two levels. Consider setting 'levels' explicitly or using 'multiclass.roc' instead”\n",
            "Setting levels: control = 0.0643480611392483, case = 0.0995133049235417\n",
            "\n",
            "Setting direction: controls < cases\n",
            "\n",
            "Warning message in roc.default(as.numeric(data.svm.pred.prob.mat[, 2]), as.numeric(test_set$Outcome)):\n",
            "“'response' has more than two levels. Consider setting 'levels' explicitly or using 'multiclass.roc' instead”\n",
            "Setting levels: control = 0.0591353348258824, case = 0.0926534925906336\n",
            "\n",
            "Setting direction: controls < cases\n",
            "\n",
            "Warning message in roc.default(as.numeric(data.svm.pred.prob.mat[, 2]), as.numeric(test_set$Outcome)):\n",
            "“'response' has more than two levels. Consider setting 'levels' explicitly or using 'multiclass.roc' instead”\n",
            "Setting levels: control = 0.055712466605344, case = 0.0883349586459332\n",
            "\n",
            "Setting direction: controls < cases\n",
            "\n",
            "Warning message in roc.default(as.numeric(data.svm.pred.prob.mat[, 2]), as.numeric(test_set$Outcome)):\n",
            "“'response' has more than two levels. Consider setting 'levels' explicitly or using 'multiclass.roc' instead”\n",
            "Setting levels: control = 0.0759695751673227, case = 0.113178878454269\n",
            "\n",
            "Setting direction: controls < cases\n",
            "\n",
            "Warning message in roc.default(as.numeric(data.svm.pred.prob.mat[, 2]), as.numeric(test_set$Outcome)):\n",
            "“'response' has more than two levels. Consider setting 'levels' explicitly or using 'multiclass.roc' instead”\n",
            "Setting levels: control = 0.0625199045675979, case = 0.0969222570067634\n",
            "\n",
            "Setting direction: controls < cases\n",
            "\n",
            "Warning message in roc.default(as.numeric(data.svm.pred.prob.mat[, 2]), as.numeric(test_set$Outcome)):\n",
            "“'response' has more than two levels. Consider setting 'levels' explicitly or using 'multiclass.roc' instead”\n",
            "Setting levels: control = 0.0617166868414079, case = 0.0955407741985217\n",
            "\n",
            "Setting direction: controls < cases\n",
            "\n",
            "Warning message in roc.default(as.numeric(data.svm.pred.prob.mat[, 2]), as.numeric(test_set$Outcome)):\n",
            "“'response' has more than two levels. Consider setting 'levels' explicitly or using 'multiclass.roc' instead”\n",
            "Setting levels: control = 0.0697980673926337, case = 0.105326194198068\n",
            "\n",
            "Setting direction: controls < cases\n",
            "\n",
            "Warning message in roc.default(as.numeric(data.svm.pred.prob.mat[, 2]), as.numeric(test_set$Outcome)):\n",
            "“'response' has more than two levels. Consider setting 'levels' explicitly or using 'multiclass.roc' instead”\n",
            "Setting levels: control = 0.0799062479482193, case = 0.118141782363709\n",
            "\n",
            "Setting direction: controls < cases\n",
            "\n",
            "Warning message in roc.default(as.numeric(data.svm.pred.prob.mat[, 2]), as.numeric(test_set$Outcome)):\n",
            "“'response' has more than two levels. Consider setting 'levels' explicitly or using 'multiclass.roc' instead”\n",
            "Setting levels: control = 0.0658114056700833, case = 0.10108254823102\n",
            "\n",
            "Setting direction: controls < cases\n",
            "\n",
            "Warning message in roc.default(as.numeric(data.svm.pred.prob.mat[, 2]), as.numeric(test_set$Outcome)):\n",
            "“'response' has more than two levels. Consider setting 'levels' explicitly or using 'multiclass.roc' instead”\n",
            "Setting levels: control = 0.0584231886956468, case = 0.0911486713235196\n",
            "\n",
            "Setting direction: controls < cases\n",
            "\n",
            "Warning message in roc.default(as.numeric(data.svm.pred.prob.mat[, 2]), as.numeric(test_set$Outcome)):\n",
            "“'response' has more than two levels. Consider setting 'levels' explicitly or using 'multiclass.roc' instead”\n",
            "Setting levels: control = 0.0593953780894332, case = 0.132908297548295\n",
            "\n",
            "Setting direction: controls > cases\n",
            "\n",
            "Warning message in roc.default(as.numeric(data.svm.pred.prob.mat[, 2]), as.numeric(test_set$Outcome)):\n",
            "“'response' has more than two levels. Consider setting 'levels' explicitly or using 'multiclass.roc' instead”\n",
            "Setting levels: control = 0.102217257905459, case = 0.132851564631341\n",
            "\n",
            "Setting direction: controls < cases\n",
            "\n",
            "Warning message in roc.default(as.numeric(data.svm.pred.prob.mat[, 2]), as.numeric(test_set$Outcome)):\n",
            "“'response' has more than two levels. Consider setting 'levels' explicitly or using 'multiclass.roc' instead”\n",
            "Setting levels: control = 0.203164522817031, case = 0.295782926003533\n",
            "\n",
            "Setting direction: controls < cases\n",
            "\n",
            "Warning message in roc.default(as.numeric(data.svm.pred.prob.mat[, 2]), as.numeric(test_set$Outcome)):\n",
            "“'response' has more than two levels. Consider setting 'levels' explicitly or using 'multiclass.roc' instead”\n",
            "Setting levels: control = 0.203966239560024, case = 0.297813507594588\n",
            "\n",
            "Setting direction: controls < cases\n",
            "\n",
            "Warning message in roc.default(as.numeric(data.svm.pred.prob.mat[, 2]), as.numeric(test_set$Outcome)):\n",
            "“'response' has more than two levels. Consider setting 'levels' explicitly or using 'multiclass.roc' instead”\n",
            "Setting levels: control = 0.291332459456993, case = 0.370224615075589\n",
            "\n",
            "Setting direction: controls < cases\n",
            "\n",
            "Warning message in roc.default(as.numeric(data.svm.pred.prob.mat[, 2]), as.numeric(test_set$Outcome)):\n",
            "“'response' has more than two levels. Consider setting 'levels' explicitly or using 'multiclass.roc' instead”\n",
            "Setting levels: control = 0.301793057782146, case = 0.380677940129837\n",
            "\n",
            "Setting direction: controls < cases\n",
            "\n",
            "Warning message in roc.default(as.numeric(data.svm.pred.prob.mat[, 2]), as.numeric(test_set$Outcome)):\n",
            "“'response' has more than two levels. Consider setting 'levels' explicitly or using 'multiclass.roc' instead”\n",
            "Setting levels: control = 0.182009657731522, case = 0.293748245206979\n",
            "\n",
            "Setting direction: controls < cases\n",
            "\n",
            "Warning message in roc.default(as.numeric(data.svm.pred.prob.mat[, 2]), as.numeric(test_set$Outcome)):\n",
            "“'response' has more than two levels. Consider setting 'levels' explicitly or using 'multiclass.roc' instead”\n",
            "Setting levels: control = 0.280816296929213, case = 0.368930865953364\n",
            "\n",
            "Setting direction: controls < cases\n",
            "\n",
            "Warning message in roc.default(as.numeric(data.svm.pred.prob.mat[, 2]), as.numeric(test_set$Outcome)):\n",
            "“'response' has more than two levels. Consider setting 'levels' explicitly or using 'multiclass.roc' instead”\n",
            "Setting levels: control = 0.216966841836664, case = 0.322411648488807\n",
            "\n",
            "Setting direction: controls < cases\n",
            "\n",
            "Warning message in roc.default(as.numeric(data.svm.pred.prob.mat[, 2]), as.numeric(test_set$Outcome)):\n",
            "“'response' has more than two levels. Consider setting 'levels' explicitly or using 'multiclass.roc' instead”\n",
            "Setting levels: control = 0.304662496801494, case = 0.379353356261895\n",
            "\n",
            "Setting direction: controls < cases\n",
            "\n",
            "Warning message in roc.default(as.numeric(data.svm.pred.prob.mat[, 2]), as.numeric(test_set$Outcome)):\n",
            "“'response' has more than two levels. Consider setting 'levels' explicitly or using 'multiclass.roc' instead”\n",
            "Setting levels: control = 0.228224345375465, case = 0.312800493157548\n",
            "\n",
            "Setting direction: controls < cases\n",
            "\n",
            "Warning message in roc.default(as.numeric(data.svm.pred.prob.mat[, 2]), as.numeric(test_set$Outcome)):\n",
            "“'response' has more than two levels. Consider setting 'levels' explicitly or using 'multiclass.roc' instead”\n",
            "Setting levels: control = 0.218209424135817, case = 0.296503277178269\n",
            "\n",
            "Setting direction: controls < cases\n",
            "\n",
            "Warning message in roc.default(as.numeric(data.svm.pred.prob.mat[, 2]), as.numeric(test_set$Outcome)):\n",
            "“'response' has more than two levels. Consider setting 'levels' explicitly or using 'multiclass.roc' instead”\n",
            "Setting levels: control = 0.206490581634734, case = 0.284177971389141\n",
            "\n",
            "Setting direction: controls < cases\n",
            "\n",
            "Warning message in roc.default(as.numeric(data.svm.pred.prob.mat[, 2]), as.numeric(test_set$Outcome)):\n",
            "“'response' has more than two levels. Consider setting 'levels' explicitly or using 'multiclass.roc' instead”\n",
            "Setting levels: control = 0.277005504105876, case = 0.344361391981787\n",
            "\n",
            "Setting direction: controls < cases\n",
            "\n",
            "Warning message in roc.default(as.numeric(data.svm.pred.prob.mat[, 2]), as.numeric(test_set$Outcome)):\n",
            "“'response' has more than two levels. Consider setting 'levels' explicitly or using 'multiclass.roc' instead”\n",
            "Setting levels: control = 0.193411593849666, case = 0.271448424166787\n",
            "\n",
            "Setting direction: controls < cases\n",
            "\n",
            "Warning message in roc.default(as.numeric(data.svm.pred.prob.mat[, 2]), as.numeric(test_set$Outcome)):\n",
            "“'response' has more than two levels. Consider setting 'levels' explicitly or using 'multiclass.roc' instead”\n",
            "Setting levels: control = 0.356935796882382, case = 0.396051081147423\n",
            "\n",
            "Setting direction: controls < cases\n",
            "\n",
            "Warning message in roc.default(as.numeric(data.svm.pred.prob.mat[, 2]), as.numeric(test_set$Outcome)):\n",
            "“'response' has more than two levels. Consider setting 'levels' explicitly or using 'multiclass.roc' instead”\n",
            "Setting levels: control = 0.313357871721985, case = 0.357970307850786\n",
            "\n",
            "Setting direction: controls < cases\n",
            "\n",
            "Warning message in roc.default(as.numeric(data.svm.pred.prob.mat[, 2]), as.numeric(test_set$Outcome)):\n",
            "“'response' has more than two levels. Consider setting 'levels' explicitly or using 'multiclass.roc' instead”\n",
            "Setting levels: control = 0.247081848820131, case = 0.297244756243563\n",
            "\n",
            "Setting direction: controls < cases\n",
            "\n",
            "Warning message in roc.default(as.numeric(data.svm.pred.prob.mat[, 2]), as.numeric(test_set$Outcome)):\n",
            "“'response' has more than two levels. Consider setting 'levels' explicitly or using 'multiclass.roc' instead”\n",
            "Setting levels: control = 0.316288446417263, case = 0.354198198495737\n",
            "\n",
            "Setting direction: controls < cases\n",
            "\n",
            "Warning message in roc.default(as.numeric(data.svm.pred.prob.mat[, 2]), as.numeric(test_set$Outcome)):\n",
            "“'response' has more than two levels. Consider setting 'levels' explicitly or using 'multiclass.roc' instead”\n",
            "Setting levels: control = 0.363382171735715, case = 0.390938600574855\n",
            "\n",
            "Setting direction: controls < cases\n",
            "\n",
            "Warning message in roc.default(as.numeric(data.svm.pred.prob.mat[, 2]), as.numeric(test_set$Outcome)):\n",
            "“'response' has more than two levels. Consider setting 'levels' explicitly or using 'multiclass.roc' instead”\n",
            "Setting levels: control = 0.0899784146658248, case = 0.0912811880063752\n",
            "\n",
            "Setting direction: controls < cases\n",
            "\n",
            "Warning message in roc.default(as.numeric(data.svm.pred.prob.mat[, 2]), as.numeric(test_set$Outcome)):\n",
            "“'response' has more than two levels. Consider setting 'levels' explicitly or using 'multiclass.roc' instead”\n",
            "Setting levels: control = 0.0914358703250505, case = 0.103667643976126\n",
            "\n",
            "Setting direction: controls < cases\n",
            "\n",
            "Warning message in roc.default(as.numeric(data.svm.pred.prob.mat[, 2]), as.numeric(test_set$Outcome)):\n",
            "“'response' has more than two levels. Consider setting 'levels' explicitly or using 'multiclass.roc' instead”\n",
            "Setting levels: control = 0.17108903996498, case = 0.187222967509289\n",
            "\n",
            "Setting direction: controls < cases\n",
            "\n",
            "Warning message in roc.default(as.numeric(data.svm.pred.prob.mat[, 2]), as.numeric(test_set$Outcome)):\n",
            "“'response' has more than two levels. Consider setting 'levels' explicitly or using 'multiclass.roc' instead”\n",
            "Setting levels: control = 0.130746710913988, case = 0.142672751129997\n",
            "\n",
            "Setting direction: controls < cases\n",
            "\n",
            "Warning message in roc.default(as.numeric(data.svm.pred.prob.mat[, 2]), as.numeric(test_set$Outcome)):\n",
            "“'response' has more than two levels. Consider setting 'levels' explicitly or using 'multiclass.roc' instead”\n",
            "Setting levels: control = 0.179483098354966, case = 0.190395936683595\n",
            "\n",
            "Setting direction: controls < cases\n",
            "\n",
            "Warning message in roc.default(as.numeric(data.svm.pred.prob.mat[, 2]), as.numeric(test_set$Outcome)):\n",
            "“'response' has more than two levels. Consider setting 'levels' explicitly or using 'multiclass.roc' instead”\n",
            "Setting levels: control = 0.168894724212712, case = 0.174377355661124\n",
            "\n",
            "Setting direction: controls < cases\n",
            "\n",
            "Warning message in roc.default(as.numeric(data.svm.pred.prob.mat[, 2]), as.numeric(test_set$Outcome)):\n",
            "“'response' has more than two levels. Consider setting 'levels' explicitly or using 'multiclass.roc' instead”\n",
            "Setting levels: control = 0.215013610292663, case = 0.21918833151088\n",
            "\n",
            "Setting direction: controls < cases\n",
            "\n",
            "Warning message in roc.default(as.numeric(data.svm.pred.prob.mat[, 2]), as.numeric(test_set$Outcome)):\n",
            "“'response' has more than two levels. Consider setting 'levels' explicitly or using 'multiclass.roc' instead”\n",
            "Setting levels: control = 0.187672867337464, case = 0.187917208044749\n",
            "\n",
            "Setting direction: controls < cases\n",
            "\n",
            "Warning message in roc.default(as.numeric(data.svm.pred.prob.mat[, 2]), as.numeric(test_set$Outcome)):\n",
            "“'response' has more than two levels. Consider setting 'levels' explicitly or using 'multiclass.roc' instead”\n",
            "Setting levels: control = 0.254363179847132, case = 0.255862701651986\n",
            "\n",
            "Setting direction: controls < cases\n",
            "\n",
            "Warning message in roc.default(as.numeric(data.svm.pred.prob.mat[, 2]), as.numeric(test_set$Outcome)):\n",
            "“'response' has more than two levels. Consider setting 'levels' explicitly or using 'multiclass.roc' instead”\n",
            "Setting levels: control = 0.234706229254106, case = 0.240646856853093\n",
            "\n",
            "Setting direction: controls < cases\n",
            "\n",
            "Warning message in roc.default(as.numeric(data.svm.pred.prob.mat[, 2]), as.numeric(test_set$Outcome)):\n",
            "“'response' has more than two levels. Consider setting 'levels' explicitly or using 'multiclass.roc' instead”\n",
            "Setting levels: control = 0.250017432446835, case = 0.251506715126165\n",
            "\n",
            "Setting direction: controls < cases\n",
            "\n",
            "Warning message in roc.default(as.numeric(data.svm.pred.prob.mat[, 2]), as.numeric(test_set$Outcome)):\n",
            "“'response' has more than two levels. Consider setting 'levels' explicitly or using 'multiclass.roc' instead”\n",
            "Setting levels: control = 0.181821803058649, case = 0.190445529193594\n",
            "\n",
            "Setting direction: controls < cases\n",
            "\n",
            "Warning message in roc.default(as.numeric(data.svm.pred.prob.mat[, 2]), as.numeric(test_set$Outcome)):\n",
            "“'response' has more than two levels. Consider setting 'levels' explicitly or using 'multiclass.roc' instead”\n",
            "Setting levels: control = 0.228914894298822, case = 0.235171646988312\n",
            "\n",
            "Setting direction: controls < cases\n",
            "\n",
            "Warning message in roc.default(as.numeric(data.svm.pred.prob.mat[, 2]), as.numeric(test_set$Outcome)):\n",
            "“'response' has more than two levels. Consider setting 'levels' explicitly or using 'multiclass.roc' instead”\n",
            "Setting levels: control = 0.218537816146657, case = 0.220138206868519\n",
            "\n",
            "Setting direction: controls < cases\n",
            "\n",
            "Warning message in roc.default(as.numeric(data.svm.pred.prob.mat[, 2]), as.numeric(test_set$Outcome)):\n",
            "“'response' has more than two levels. Consider setting 'levels' explicitly or using 'multiclass.roc' instead”\n",
            "Setting levels: control = 0.236902430054792, case = 0.244620608557063\n",
            "\n",
            "Setting direction: controls < cases\n",
            "\n",
            "Warning message in roc.default(as.numeric(data.svm.pred.prob.mat[, 2]), as.numeric(test_set$Outcome)):\n",
            "“'response' has more than two levels. Consider setting 'levels' explicitly or using 'multiclass.roc' instead”\n",
            "Setting levels: control = 0.211547578070496, case = 0.220870703568138\n",
            "\n",
            "Setting direction: controls < cases\n",
            "\n",
            "Warning message in roc.default(as.numeric(data.svm.pred.prob.mat[, 2]), as.numeric(test_set$Outcome)):\n",
            "“'response' has more than two levels. Consider setting 'levels' explicitly or using 'multiclass.roc' instead”\n",
            "Setting levels: control = 0.223175409197413, case = 0.233610324459884\n",
            "\n",
            "Setting direction: controls < cases\n",
            "\n",
            "Warning message in roc.default(as.numeric(data.svm.pred.prob.mat[, 2]), as.numeric(test_set$Outcome)):\n",
            "“'response' has more than two levels. Consider setting 'levels' explicitly or using 'multiclass.roc' instead”\n",
            "Setting levels: control = 0.230674622131923, case = 0.242913474814818\n",
            "\n",
            "Setting direction: controls < cases\n",
            "\n",
            "Warning message in roc.default(as.numeric(data.svm.pred.prob.mat[, 2]), as.numeric(test_set$Outcome)):\n",
            "“'response' has more than two levels. Consider setting 'levels' explicitly or using 'multiclass.roc' instead”\n",
            "Setting levels: control = 0.163237386232894, case = 0.176683812983643\n",
            "\n",
            "Setting direction: controls < cases\n",
            "\n",
            "Warning message in roc.default(as.numeric(data.svm.pred.prob.mat[, 2]), as.numeric(test_set$Outcome)):\n",
            "“'response' has more than two levels. Consider setting 'levels' explicitly or using 'multiclass.roc' instead”\n",
            "Setting levels: control = 0.195595786032033, case = 0.210347121072195\n",
            "\n",
            "Setting direction: controls < cases\n",
            "\n",
            "Warning message in roc.default(as.numeric(data.svm.pred.prob.mat.test[, 2]), as.numeric(test_set$Outcome)):\n",
            "“'response' has more than two levels. Consider setting 'levels' explicitly or using 'multiclass.roc' instead”\n",
            "Setting levels: control = 0.195595786032033, case = 0.210347121072195\n",
            "\n",
            "Setting direction: controls < cases\n",
            "\n"
          ]
        },
        {
          "output_type": "stream",
          "name": "stdout",
          "text": [
            "Best c value: 5 \n",
            "Best kernel type: polynomial \n",
            "AUC of the best model: 0.5 \n"
          ]
        }
      ],
      "source": [
        "# Define the values to test for the cost parameter\n",
        "\n",
        "max_c <- 100\n",
        "\n",
        "c_values <- seq(from = 5, to = max_c, by = 5)\n",
        "\n",
        "# Define the types of kernels to test\n",
        "kernel_types <- c(\"linear\", \"polynomial\", \"radial\")\n",
        "\n",
        "# Create a matrix to store the AUC values for each combination of kernel and cost\n",
        "auc.matrix <- matrix(nrow = length(kernel_types), ncol = length(c_values))\n",
        "rownames(auc.matrix) <- kernel_types\n",
        "colnames(auc.matrix) <- c_values\n",
        "\n",
        "\n",
        "# Train and test SVM models using different types of kernels and different values of the cost parameter\n",
        "for (i in 1:length(kernel_types)) {\n",
        "  for (j in 1:length(c_values)) {\n",
        "    svm_model <- svm(Outcome ~ Pregnancies + Glucose + BloodPressure + SkinThickness + Insulin + BMI + DiabetesPedigreeFunction + Age, data =   training_set, kernel = kernel_types[i], cost = c_values[j], probability = T)\n",
        "\n",
        "    data.svm.pred.prob = predict(svm_model, test_set,\n",
        "                             probability=T)\n",
        "\n",
        "    data.svm.pred.prob.mat = attr(data.svm.pred.prob, \"probabilities\")\n",
        "\n",
        "    datasvmroc = roc(as.numeric(data.svm.pred.prob.mat[,2]), as.numeric(test_set$Outcome))\n",
        "\n",
        "    auc.matrix[i,j] <- auc(datasvmroc)\n",
        "  }\n",
        "}\n",
        "\n",
        "# Find the combination of kernel and cost that has the highest AUC\n",
        "best.auc <- max(auc.matrix)\n",
        "best.kernel <- rownames(auc.matrix)[ifelse(length(which(auc.matrix == best.auc, arr.ind = TRUE)) == 0, 1, which(auc.matrix == best.auc, arr.ind = TRUE)[1,1])]\n",
        "best.cost <- colnames(auc.matrix)[ifelse(length(which(auc.matrix == best.auc, arr.ind = TRUE)) == 0, 1, which(auc.matrix == best.auc, arr.ind = TRUE)[1,2])]\n",
        "\n",
        "\n",
        "# Train the final SVM model using the best combination of kernel and cost\n",
        "model_best_svm <- svm(Outcome ~ Pregnancies + Glucose + BloodPressure + SkinThickness + Insulin + BMI + DiabetesPedigreeFunction + Age, data = training_set, kernel = best.kernel, cost = best.cost, probability = T)\n",
        "\n",
        "data.svm.pred.prob.test = predict(model_best_svm, test_set,\n",
        "                             probability=T)\n",
        "\n",
        "data.svm.pred.prob.mat.test = attr(data.svm.pred.prob, \"probabilities\")\n",
        "\n",
        "datasvmroc.test = roc(as.numeric(data.svm.pred.prob.mat.test[,2]), as.numeric(test_set$Outcome))\n",
        "\n",
        "auc_best_svm <- auc(datasvmroc.test)\n",
        "\n",
        "cat(\"Best c value:\", best.cost, \"\\n\")\n",
        "cat(\"Best kernel type:\", best.kernel, \"\\n\")\n",
        "\n",
        "cat(\"AUC of the best model:\", auc_best_svm, \"\\n\")\n"
      ]
    },
    {
      "cell_type": "markdown",
      "metadata": {
        "id": "2--f9iDOJohC"
      },
      "source": [
        " ### 5.7. Neural Networks\n",
        "\n",
        "Neural networks take a set of inputs and create a function for each to help predict the output. The functions are randomly initialized and then progressively improved to best fit the data.\n",
        "\n",
        "7.1. Fixing zero values\n"
      ]
    },
    {
      "cell_type": "code",
      "execution_count": 41,
      "metadata": {
        "colab": {
          "base_uri": "https://localhost:8080/",
          "height": 1000
        },
        "id": "Tl5EnXroJohC",
        "outputId": "89972fd5-2f02-48bf-c0b3-7f8851843d7e"
      },
      "outputs": [
        {
          "output_type": "display_data",
          "data": {
            "text/plain": [
              "    Glucose      BloodPressure    SkinThickness      Insulin     \n",
              " Min.   : 44.0   Min.   : 24.00   Min.   : 7.00   Min.   : 14.0  \n",
              " 1st Qu.: 99.0   1st Qu.: 64.00   1st Qu.:21.00   1st Qu.: 75.0  \n",
              " Median :116.0   Median : 72.00   Median :29.00   Median :121.0  \n",
              " Mean   :121.3   Mean   : 72.21   Mean   :29.11   Mean   :153.8  \n",
              " 3rd Qu.:140.5   3rd Qu.: 80.00   3rd Qu.:36.00   3rd Qu.:190.0  \n",
              " Max.   :199.0   Max.   :122.00   Max.   :99.00   Max.   :846.0  \n",
              " NA's   :5       NA's   :32       NA's   :196     NA's   :322    \n",
              "      BMI      \n",
              " Min.   :18.2  \n",
              " 1st Qu.:27.3  \n",
              " Median :32.0  \n",
              " Mean   :32.3  \n",
              " 3rd Qu.:36.6  \n",
              " Max.   :67.1  \n",
              " NA's   :9     "
            ]
          },
          "metadata": {}
        },
        {
          "output_type": "display_data",
          "data": {
            "text/plain": [
              "    Glucose      BloodPressure    SkinThickness      Insulin     \n",
              " Min.   : 44.0   Min.   : 24.00   Min.   : 7.00   Min.   : 14.0  \n",
              " 1st Qu.: 99.0   1st Qu.: 64.00   1st Qu.:22.00   1st Qu.: 81.0  \n",
              " Median :116.0   Median : 72.00   Median :30.00   Median :122.0  \n",
              " Mean   :121.2   Mean   : 72.33   Mean   :28.95   Mean   :142.2  \n",
              " 3rd Qu.:140.0   3rd Qu.: 80.00   3rd Qu.:33.00   3rd Qu.:170.0  \n",
              " Max.   :199.0   Max.   :122.00   Max.   :99.00   Max.   :846.0  \n",
              "      BMI        Glucose_imp     BloodPressure_imp SkinThickness_imp\n",
              " Min.   :18.20   Mode :logical   Mode :logical     Mode :logical    \n",
              " 1st Qu.:27.40   FALSE:663       FALSE:636         FALSE:472        \n",
              " Median :32.05   TRUE :5         TRUE :32          TRUE :196        \n",
              " Mean   :32.31                                                      \n",
              " 3rd Qu.:36.50                                                      \n",
              " Max.   :67.10                                                      \n",
              " Insulin_imp      BMI_imp       \n",
              " Mode :logical   Mode :logical  \n",
              " FALSE:346       FALSE:659      \n",
              " TRUE :322       TRUE :9        \n",
              "                                \n",
              "                                \n",
              "                                "
            ]
          },
          "metadata": {}
        },
        {
          "output_type": "display_data",
          "data": {
            "text/plain": [
              "  Pregnancies        Glucose      BloodPressure    SkinThickness  \n",
              " Min.   : 0.000   Min.   : 44.0   Min.   : 24.00   Min.   : 7.00  \n",
              " 1st Qu.: 1.000   1st Qu.: 99.0   1st Qu.: 64.00   1st Qu.:22.00  \n",
              " Median : 3.000   Median :116.0   Median : 72.00   Median :30.00  \n",
              " Mean   : 3.813   Mean   :121.2   Mean   : 72.33   Mean   :28.95  \n",
              " 3rd Qu.: 6.000   3rd Qu.:140.0   3rd Qu.: 80.00   3rd Qu.:33.00  \n",
              " Max.   :17.000   Max.   :199.0   Max.   :122.00   Max.   :99.00  \n",
              "    Insulin           BMI        DiabetesPedigreeFunction      Age       \n",
              " Min.   : 14.0   Min.   :18.20   Min.   :0.0780           Min.   :21.00  \n",
              " 1st Qu.: 81.0   1st Qu.:27.40   1st Qu.:0.2387           1st Qu.:24.00  \n",
              " Median :122.0   Median :32.05   Median :0.3770           Median :29.00  \n",
              " Mean   :142.2   Mean   :32.31   Mean   :0.4773           Mean   :33.09  \n",
              " 3rd Qu.:170.0   3rd Qu.:36.50   3rd Qu.:0.6412           3rd Qu.:40.00  \n",
              " Max.   :846.0   Max.   :67.10   Max.   :2.4200           Max.   :81.00  \n",
              "    Outcome      \n",
              " Min.   :0.0000  \n",
              " 1st Qu.:0.0000  \n",
              " Median :0.0000  \n",
              " Mean   :0.3458  \n",
              " 3rd Qu.:1.0000  \n",
              " Max.   :1.0000  "
            ]
          },
          "metadata": {}
        }
      ],
      "source": [
        "diabetes_nn <- read.csv(\"PimaIndiansDiabetes.csv\", header = T) #read the data.csv in and call it cancer_data\n",
        "\n",
        "#Solve missing values\n",
        "diabetes0_nn <- diabetes_nn[, c(\"Glucose\", \"BloodPressure\", \"SkinThickness\", \"Insulin\", \"BMI\")]\n",
        "\n",
        "diabetes0_nn[diabetes0_nn=='0']=NA #Replacing 0 with NA\n",
        "\n",
        "summary(diabetes0_nn) #show the NA present in each variable\n",
        "\n",
        "diabetes0_nn<-kNN(diabetes0_nn,k=sqrt(nrow(diabetes0_nn))) #KNN Imputation method to remove NA. The square root of number of rows in the dataset because the \"optimal K value usually found is the square root of N, where N is the total number of samples\".\n",
        "\n",
        "summary(diabetes0_nn)\n",
        "\n",
        "#extract the necessary variables\n",
        "diabetes0_nn=diabetes0_nn[,1:5]\n",
        "\n",
        "#Replace processed variables back into the dataset\n",
        "\n",
        "diabetes_nn$Glucose=diabetes0_nn$Glucose\n",
        "diabetes_nn$BloodPressure=diabetes0_nn$BloodPressure\n",
        "diabetes_nn$SkinThickness=diabetes0_nn$SkinThickness\n",
        "diabetes_nn$Insulin=diabetes0_nn$Insulin\n",
        "diabetes_nn$BMI=diabetes0_nn$BMI\n",
        "\n",
        "summary(diabetes_nn)\n"
      ]
    },
    {
      "cell_type": "markdown",
      "metadata": {
        "id": "5bJcIwAyJohC"
      },
      "source": [
        "7.2. Scaling data\n"
      ]
    },
    {
      "cell_type": "code",
      "execution_count": 42,
      "metadata": {
        "colab": {
          "base_uri": "https://localhost:8080/",
          "height": 303
        },
        "id": "AZsETdpLJohC",
        "outputId": "4f1f9a6b-564c-4486-c769-d834ef0672aa"
      },
      "outputs": [
        {
          "output_type": "display_data",
          "data": {
            "text/html": [
              "<table class=\"dataframe\">\n",
              "<caption>A data.frame: 6 × 9</caption>\n",
              "<thead>\n",
              "\t<tr><th></th><th scope=col>Pregnancies</th><th scope=col>Glucose</th><th scope=col>BloodPressure</th><th scope=col>SkinThickness</th><th scope=col>Insulin</th><th scope=col>BMI</th><th scope=col>DiabetesPedigreeFunction</th><th scope=col>Age</th><th scope=col>results</th></tr>\n",
              "\t<tr><th></th><th scope=col>&lt;dbl&gt;</th><th scope=col>&lt;dbl&gt;</th><th scope=col>&lt;dbl&gt;</th><th scope=col>&lt;dbl&gt;</th><th scope=col>&lt;dbl&gt;</th><th scope=col>&lt;dbl&gt;</th><th scope=col>&lt;dbl&gt;</th><th scope=col>&lt;dbl&gt;</th><th scope=col>&lt;int&gt;</th></tr>\n",
              "</thead>\n",
              "<tbody>\n",
              "\t<tr><th scope=row>1</th><td>0.35294118</td><td>0.6709677</td><td>0.4897959</td><td>0.3043478</td><td>0.18870192</td><td>0.3149284</td><td>0.23441503</td><td>0.4833333</td><td>1</td></tr>\n",
              "\t<tr><th scope=row>2</th><td>0.05882353</td><td>0.2645161</td><td>0.4285714</td><td>0.2391304</td><td>0.06850962</td><td>0.1717791</td><td>0.11656704</td><td>0.1666667</td><td>0</td></tr>\n",
              "\t<tr><th scope=row>3</th><td>0.47058824</td><td>0.8967742</td><td>0.4081633</td><td>0.2282609</td><td>0.19350962</td><td>0.1042945</td><td>0.25362938</td><td>0.1833333</td><td>1</td></tr>\n",
              "\t<tr><th scope=row>4</th><td>0.05882353</td><td>0.2903226</td><td>0.4285714</td><td>0.1739130</td><td>0.09615385</td><td>0.2024540</td><td>0.03800171</td><td>0.0000000</td><td>0</td></tr>\n",
              "\t<tr><th scope=row>5</th><td>0.00000000</td><td>0.6000000</td><td>0.1632653</td><td>0.3043478</td><td>0.18509615</td><td>0.5092025</td><td>0.94363792</td><td>0.2000000</td><td>1</td></tr>\n",
              "\t<tr><th scope=row>6</th><td>0.29411765</td><td>0.4645161</td><td>0.5102041</td><td>0.1630435</td><td>0.10937500</td><td>0.1513292</td><td>0.05251921</td><td>0.1500000</td><td>0</td></tr>\n",
              "</tbody>\n",
              "</table>\n"
            ],
            "text/markdown": "\nA data.frame: 6 × 9\n\n| <!--/--> | Pregnancies &lt;dbl&gt; | Glucose &lt;dbl&gt; | BloodPressure &lt;dbl&gt; | SkinThickness &lt;dbl&gt; | Insulin &lt;dbl&gt; | BMI &lt;dbl&gt; | DiabetesPedigreeFunction &lt;dbl&gt; | Age &lt;dbl&gt; | results &lt;int&gt; |\n|---|---|---|---|---|---|---|---|---|---|\n| 1 | 0.35294118 | 0.6709677 | 0.4897959 | 0.3043478 | 0.18870192 | 0.3149284 | 0.23441503 | 0.4833333 | 1 |\n| 2 | 0.05882353 | 0.2645161 | 0.4285714 | 0.2391304 | 0.06850962 | 0.1717791 | 0.11656704 | 0.1666667 | 0 |\n| 3 | 0.47058824 | 0.8967742 | 0.4081633 | 0.2282609 | 0.19350962 | 0.1042945 | 0.25362938 | 0.1833333 | 1 |\n| 4 | 0.05882353 | 0.2903226 | 0.4285714 | 0.1739130 | 0.09615385 | 0.2024540 | 0.03800171 | 0.0000000 | 0 |\n| 5 | 0.00000000 | 0.6000000 | 0.1632653 | 0.3043478 | 0.18509615 | 0.5092025 | 0.94363792 | 0.2000000 | 1 |\n| 6 | 0.29411765 | 0.4645161 | 0.5102041 | 0.1630435 | 0.10937500 | 0.1513292 | 0.05251921 | 0.1500000 | 0 |\n\n",
            "text/latex": "A data.frame: 6 × 9\n\\begin{tabular}{r|lllllllll}\n  & Pregnancies & Glucose & BloodPressure & SkinThickness & Insulin & BMI & DiabetesPedigreeFunction & Age & results\\\\\n  & <dbl> & <dbl> & <dbl> & <dbl> & <dbl> & <dbl> & <dbl> & <dbl> & <int>\\\\\n\\hline\n\t1 & 0.35294118 & 0.6709677 & 0.4897959 & 0.3043478 & 0.18870192 & 0.3149284 & 0.23441503 & 0.4833333 & 1\\\\\n\t2 & 0.05882353 & 0.2645161 & 0.4285714 & 0.2391304 & 0.06850962 & 0.1717791 & 0.11656704 & 0.1666667 & 0\\\\\n\t3 & 0.47058824 & 0.8967742 & 0.4081633 & 0.2282609 & 0.19350962 & 0.1042945 & 0.25362938 & 0.1833333 & 1\\\\\n\t4 & 0.05882353 & 0.2903226 & 0.4285714 & 0.1739130 & 0.09615385 & 0.2024540 & 0.03800171 & 0.0000000 & 0\\\\\n\t5 & 0.00000000 & 0.6000000 & 0.1632653 & 0.3043478 & 0.18509615 & 0.5092025 & 0.94363792 & 0.2000000 & 1\\\\\n\t6 & 0.29411765 & 0.4645161 & 0.5102041 & 0.1630435 & 0.10937500 & 0.1513292 & 0.05251921 & 0.1500000 & 0\\\\\n\\end{tabular}\n",
            "text/plain": [
              "  Pregnancies Glucose   BloodPressure SkinThickness Insulin    BMI      \n",
              "1 0.35294118  0.6709677 0.4897959     0.3043478     0.18870192 0.3149284\n",
              "2 0.05882353  0.2645161 0.4285714     0.2391304     0.06850962 0.1717791\n",
              "3 0.47058824  0.8967742 0.4081633     0.2282609     0.19350962 0.1042945\n",
              "4 0.05882353  0.2903226 0.4285714     0.1739130     0.09615385 0.2024540\n",
              "5 0.00000000  0.6000000 0.1632653     0.3043478     0.18509615 0.5092025\n",
              "6 0.29411765  0.4645161 0.5102041     0.1630435     0.10937500 0.1513292\n",
              "  DiabetesPedigreeFunction Age       results\n",
              "1 0.23441503               0.4833333 1      \n",
              "2 0.11656704               0.1666667 0      \n",
              "3 0.25362938               0.1833333 1      \n",
              "4 0.03800171               0.0000000 0      \n",
              "5 0.94363792               0.2000000 1      \n",
              "6 0.05251921               0.1500000 0      "
            ]
          },
          "metadata": {}
        }
      ],
      "source": [
        "#scale the data\n",
        "\n",
        "maxs = apply(diabetes_nn[,-9], 2, max)\n",
        "mins = apply(diabetes_nn[,-9], 2, min)\n",
        "\n",
        "scaled.data = as.data.frame(scale(diabetes_nn[,-9],\n",
        "                                  center=mins,\n",
        "                                  scale = maxs-mins))\n",
        "\n",
        "results <- diabetes_nn$Outcome\n",
        "\n",
        "scaled.data.df = cbind(scaled.data, results)\n",
        "\n",
        "head(scaled.data.df)\n",
        "# Balance the dataset --> balancing the classes by randomly undersampling the majority class (class with more samples) to match the number of samples in the minority class (class with fewer samples).\n"
      ]
    },
    {
      "cell_type": "markdown",
      "metadata": {
        "id": "Bf62QdsMJohC"
      },
      "source": [
        "\n",
        "7.3. Partitioning the Data\n"
      ]
    },
    {
      "cell_type": "code",
      "execution_count": 43,
      "metadata": {
        "id": "5xMKWF1IJohD"
      },
      "outputs": [],
      "source": [
        "features <- scaled.data.df[, -9]\n",
        "outcome <- scaled.data.df$results\n",
        "\n",
        "all_0_nn <- scaled.data.df[outcome == 0, ]\n",
        "all_1_nn <- scaled.data.df[outcome == 1, ]\n",
        "\n",
        "sampled_0_nn <- all_0_nn[sample(nrow(all_0_nn), nrow(all_1_nn)), ]\n",
        "\n",
        "balanced_diabetes_nn <- rbind(sampled_0_nn, all_1_nn)\n",
        "\n",
        "# Randomly remove 20% of the data and save it as test_set and the other 80% as training_set.\n",
        "train_indices_nn <- sample(1:nrow(balanced_diabetes_nn), round(0.8 * nrow(balanced_diabetes_nn)))\n",
        "\n",
        "# create the training set\n",
        "training_set_nn <- balanced_diabetes_nn[train_indices_nn, ]\n",
        "\n",
        "# create the test set\n",
        "test_set_nn <- balanced_diabetes_nn[-train_indices_nn, ]\n"
      ]
    },
    {
      "cell_type": "markdown",
      "metadata": {
        "id": "SZPdhjy_JohD"
      },
      "source": [
        "\n",
        "7.4. Building Model\n"
      ]
    },
    {
      "cell_type": "code",
      "execution_count": 44,
      "metadata": {
        "colab": {
          "base_uri": "https://localhost:8080/"
        },
        "id": "wz299VGGJohD",
        "outputId": "d8de8d22-43f5-4ba2-c7fb-0ffa1225e7d7"
      },
      "outputs": [
        {
          "output_type": "stream",
          "name": "stderr",
          "text": [
            "Warning message in roc.default(as.numeric(nn_results), as.numeric(test_set_nn$results)):\n",
            "“'response' has more than two levels. Consider setting 'levels' explicitly or using 'multiclass.roc' instead”\n",
            "Setting levels: control = 1.27448800911623e-65, case = 6.47128893990252e-57\n",
            "\n",
            "Setting direction: controls < cases\n",
            "\n",
            "Warning message in roc.default(as.numeric(nn_results), as.numeric(test_set_nn$results)):\n",
            "“'response' has more than two levels. Consider setting 'levels' explicitly or using 'multiclass.roc' instead”\n",
            "Setting levels: control = 1.54864250364197e-69, case = 3.08777388863604e-66\n",
            "\n",
            "Setting direction: controls < cases\n",
            "\n",
            "Warning message in roc.default(as.numeric(nn_results), as.numeric(test_set_nn$results)):\n",
            "“'response' has more than two levels. Consider setting 'levels' explicitly or using 'multiclass.roc' instead”\n",
            "Setting levels: control = 2.24177701989333e-62, case = 1.34797861513627e-55\n",
            "\n",
            "Setting direction: controls < cases\n",
            "\n",
            "Warning message in roc.default(as.numeric(nn_results), as.numeric(test_set_nn$results)):\n",
            "“'response' has more than two levels. Consider setting 'levels' explicitly or using 'multiclass.roc' instead”\n",
            "Setting levels: control = 1.79194963103756e-95, case = 1.04837377735439e-88\n",
            "\n",
            "Setting direction: controls < cases\n",
            "\n",
            "Warning message in roc.default(as.numeric(best.model.nn.results), as.numeric(test_set_nn$results)):\n",
            "“'response' has more than two levels. Consider setting 'levels' explicitly or using 'multiclass.roc' instead”\n",
            "Setting levels: control = 1.35933795895352e-36, case = 6.92743488750171e-35\n",
            "\n",
            "Setting direction: controls < cases\n",
            "\n"
          ]
        },
        {
          "output_type": "stream",
          "name": "stdout",
          "text": [
            "Best n value: 5 \n",
            "AUC of the best model: 0.5 \n"
          ]
        }
      ],
      "source": [
        "test_set_nn_var <- test_set_nn[,-9]\n",
        "\n",
        "# Define the values to hidden nodes\n",
        "\n",
        "n_values <- c(5, 10, 15, 20)\n",
        "\n",
        "# Initialize an empty list to store the AUC values for each model\n",
        "auc_list_nn <- list()\n",
        "\n",
        "# Fit a NN model for each k value and compute its AUC value\n",
        "for (n in n_values) {\n",
        "  # Fit the model\n",
        "  nn_model <- neuralnet(results ~ Pregnancies + Glucose + BloodPressure + SkinThickness + Insulin + BMI + DiabetesPedigreeFunction + Age,\n",
        "                   data= training_set_nn,\n",
        "                   hidden = c(n), rep=1, linear.output = F)\n",
        "\n",
        "  nn_results = compute(nn_model, test_set_nn_var)$net.result\n",
        "\n",
        "  data.nn.roc = roc(as.numeric(nn_results), as.numeric(test_set_nn$results))\n",
        "\n",
        "  auc_value_nn = auc(data.nn.roc)\n",
        "\n",
        "  auc_list_nn[[as.character(n)]] <- auc_value_nn\n",
        "}\n",
        "\n",
        "# Identify the n value with the highest AUC value\n",
        "best_n <- names(auc_list_nn)[which.max(unlist(auc_list_nn))]\n",
        "\n",
        "# Fit a NN model using the best n value\n",
        "best.model.nn = neuralnet(results ~ Pregnancies + Glucose + BloodPressure + SkinThickness + Insulin + BMI + DiabetesPedigreeFunction + Age, data= training_set_nn, hidden=c(as.numeric(n)), rep=1, linear.output = F)\n",
        "\n",
        "best.model.nn.results = compute(best.model.nn, test_set_nn_var)$net.result\n",
        "\n",
        "data.nn.roc.best = roc(as.numeric(best.model.nn.results), as.numeric(test_set_nn$results))\n",
        "\n",
        "best_auc_value_nn = auc(data.nn.roc.best)\n",
        "\n",
        "cat(\"Best n value:\", best_n, \"\\n\")\n",
        "cat(\"AUC of the best model:\", best_auc_value_nn, \"\\n\")\n"
      ]
    },
    {
      "cell_type": "markdown",
      "metadata": {
        "id": "NplF6yrfJohD"
      },
      "source": [
        "###Model Comparison\n"
      ]
    },
    {
      "cell_type": "code",
      "execution_count": 45,
      "metadata": {
        "colab": {
          "base_uri": "https://localhost:8080/",
          "height": 437
        },
        "id": "N1YZPd8MJohD",
        "outputId": "969f06c3-dd0e-42bc-fc3e-de5e743a7d73"
      },
      "outputs": [
        {
          "output_type": "display_data",
          "data": {
            "text/plain": [
              "Plot with title “AUC Across All Models”"
            ],
            "image/png": "[encoded data removed]"
          },
          "metadata": {
            "image/png": {
              "width": 420,
              "height": 420
            }
          }
        }
      ],
      "source": [
        "finalauc<-c(allvarauc_lr, auc_best_ctree, auc_best_rf, auc_best_knn, auc_best_svm, best_auc_value_nn)\n",
        "aucnames<-c(\"LR\", \"DTree\", \"Random Forest\", \"KNN\", \"SVM\", \"Neural Network\")\n",
        "highest_value <- max(finalauc)\n",
        "\n",
        "# Create the bar plot with different colors for the highest value\n",
        "barplot(finalauc, col=ifelse(finalauc==highest_value, \"blue\", \"green\"),\n",
        "        main=\"AUC Across All Models\",\n",
        "        xlab=\"Models\", ylab=\"AUC\", names.arg=aucnames, cex.names=0.8)\n",
        "\n",
        "#The blue colored column indicates the variable which has the highest AUC. According to the barplot, the KNN Model pertaining to all the variables have the highest AUC, suggesting that the model has the best discrimination performance whereby it is able to distinguish between the diabetic and non-diabetic cases with a high degree of accuracy.\n"
      ]
    }
  ],
  "metadata": {
    "anaconda-cloud": "",
    "kernelspec": {
      "display_name": "R",
      "name": "ir"
    },
    "language_info": {
      "name": "R"
    },
    "colab": {
      "provenance": []
    }
  },
  "nbformat": 4,
  "nbformat_minor": 0
}